{
 "cells": [
  {
   "cell_type": "markdown",
   "metadata": {},
   "source": [
    "# ML System Design Overview"
   ]
  },
  {
   "cell_type": "markdown",
   "metadata": {},
   "source": [
    "## Key steps in ML system design\n",
    "\n",
    "Types of questions that are asked in ML system design interviews are:\n",
    "- Build a system that shows relevant ads for search engines.\n",
    "- Recommend movies to a user on Netflix.\n",
    "- Extract all persons, locations, and organizations from a given corpus of documents.\n",
    "\n",
    "Key points of discsussion in ML system design are:\n",
    "\n",
    "1. Problem Setting\n",
    "2. Understanding the scale and latency requirements\n",
    "3. Defining metrics\n",
    "4. Architecture discussion\n",
    "    1. Architecting for scale\n",
    "5. Offline model building and evaluation\n",
    "6. Online model execution and evaluation\n",
    "7. Iterative model improvements\n",
    "\n",
    "\n",
    "## Problem Setting\n",
    "\n",
    "Usually the problem statement by the interviewer might be broad and it is important to ask clarifying questions to understand the problem better. Ask clarifying questions till you feel that all aspects of the problem are clear to you and convey your understanding to the interviewer so that both of you are on the same page.\n",
    "\n",
    "Some questions that you might ask are:\n",
    "\n",
    "- What is the objective of the system?\n",
    "- Does it work like XXX ? (where XXX is a similar system that you know of)\n",
    "- How can one obtain such inputs?\n",
    "- How will the output be consumed?\n",
    "\n",
    "Remember that post this step, you should have a fair idea of the problem statement and the objective of the system.\n",
    "\n",
    "## Understanding the scale and latency requirements\n",
    "\n",
    "This can be useful when identifying where and how caching might need to be implemented.\n",
    "\n",
    "### Latency\n",
    "Understanding latency requirements will help in indentifying the correct ML solution / model to use. \n",
    "\n",
    "### Scale\n",
    "Scale will help us understand how many requests we can expect for the system. \n",
    "\n",
    "## Defining metrics\n",
    "see [here](./ml-metrics.ipynb)"
   ]
  },
  {
   "cell_type": "markdown",
   "metadata": {},
   "source": []
  }
 ],
 "metadata": {
  "kernelspec": {
   "display_name": "python3",
   "language": "python",
   "name": "python3"
  }
 },
 "nbformat": 4,
 "nbformat_minor": 2
}
