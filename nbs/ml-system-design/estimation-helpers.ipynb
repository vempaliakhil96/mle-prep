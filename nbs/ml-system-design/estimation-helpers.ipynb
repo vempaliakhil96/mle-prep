{
 "cells": [
  {
   "cell_type": "markdown",
   "metadata": {},
   "source": [
    "# Back of the Envelope Guestimation"
   ]
  },
  {
   "cell_type": "markdown",
   "metadata": {},
   "source": [
    "[link](https://gist.github.com/mwakaba2/8ad25dda8c71fe529855994c70743733)\n",
    "\n",
    "\n",
    "## Powers of two table\n",
    "\n",
    "| 2 Power | Approx Value (Bytes) | Bytes | 10 Power |\n",
    "| ---   | ---                  | ---   | ---     |\n",
    "| 10    | 1 thousand           |  1 KB | $1 * 10^3$        |\n",
    "| 16    | 65 thousand          | 65 KB | $65 * 10^3$        |\n",
    "| 20    | 1 million            |  1 MB | $1 * 10^6$        |\n",
    "| 30    | 1 billion            |  1 GB | $1 * 10^9$        |\n",
    "| 32    | 4 billion            |  4 GB | $4 * 10^9$       |\n",
    "| 40    | 1 trillion           |  1 TB | $1 * 10^{12}$       |\n",
    "| 50    | 1 quadrillion        |  1 PB | $1 * 10^{15}$       |\n",
    "\n",
    "## Latency Comparison Numbers\n",
    "\n",
    "- L1 cache can be accessed `14x` faster than L2 cache.\n",
    "- Main memory access is 20x slower than L2, `200x` slower than L1.\n",
    "\n",
    "- Zippy Compression at `250 MB/sec`.\n",
    "- Send data over 1 Gbps network at `100 MB/sec`.\n",
    "- Read sequentially from `1 Gbps` Ethernet at `100 MB/sec`.\n",
    "- Read randomly/sequentially from SSD at ~ `1 GB/sec`.\n",
    "- Read sequentially from main memory at `4 GB/sec`.\n",
    "- Read sequentially from disk at` 30 MB/sec`.\n",
    "- Disk seeks at `100 seeks/sec`.\n",
    "- Round-trips within a data center at `2,000 trips/sec`.\n",
    "- World-wide round trips at `6-7 trips/sec`.\n",
    "\n",
    "- `1MB` sequential read from memory --> `250 micro seconds`\n",
    "- `1MB` sequential read from ssd    --> `4x` of memory\n",
    "- `1MB` sequential read from disk   --> `80x` of memory\n",
    "\n",
    "## Handy numbers for requests calculations.\n",
    "\n",
    "- `1 million reqs/month   ==  .4 reqs/sec`\n",
    "- `2.6 million reqs/month ==  1 req/sec`\n",
    "- `5.2 million reqs/month ==  2 req/sec`\n",
    "- `10 million reqs/month  ==  4 req/sec`\n",
    "- `100 million reqs/month == 40 req/sec`\n",
    "- `1 billion reqs/month   == 400 req/sec`\n"
   ]
  },
  {
   "cell_type": "markdown",
   "metadata": {},
   "source": []
  }
 ],
 "metadata": {},
 "nbformat": 4,
 "nbformat_minor": 2
}
