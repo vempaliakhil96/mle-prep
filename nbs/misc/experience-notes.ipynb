{
 "cells": [
  {
   "cell_type": "markdown",
   "metadata": {},
   "source": [
    "# Experience Notes"
   ]
  },
  {
   "cell_type": "markdown",
   "metadata": {},
   "source": [
    "## Accuracy / Coverage / Out-of-Scope Accuracy\n",
    "\n",
    "![confusion matrix](../assets/confusion-matrix.png)\n",
    "\n",
    "- For Intent Classification, we measure first `coverage` which is number of cases correctly classified divided by the total number of cases \"classified\". In the above matric this is equivalent to `recall`.\n",
    "- For measuring how many cases got correctly classified, we use `accuracy` which is the number of cases correctly classified divided by the total actual cases. This is equivalent to `precision` in the above matrix.\n",
    "- We also look at miss-classification rate, that is out of the total predicted classes how many were miss-classified.\n",
    "- Out-of-Scope Accuracy is the total out-of-scope predicted cases divided by the total actual out-of-scope cases."
   ]
  },
  {
   "cell_type": "markdown",
   "metadata": {},
   "source": []
  }
 ],
 "metadata": {},
 "nbformat": 4,
 "nbformat_minor": 2
}
