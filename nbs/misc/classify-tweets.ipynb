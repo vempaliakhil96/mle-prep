{
 "cells": [
  {
   "cell_type": "markdown",
   "id": "c11da2e0",
   "metadata": {},
   "source": [
    "# Tweet Classification"
   ]
  },
  {
   "cell_type": "code",
   "execution_count": null,
   "id": "ba5e53d7",
   "metadata": {},
   "outputs": [],
   "source": [
    "! pip install -U kaggle transformers pandas tqdm scikit-learn numpy --quiet"
   ]
  },
  {
   "cell_type": "code",
   "execution_count": null,
   "id": "7f970be1-2195-47b6-95c9-e55cdb0af9d0",
   "metadata": {},
   "outputs": [],
   "source": [
    "import pandas as pd\n",
    "from tqdm import tqdm\n",
    "from tqdm import tqdm_notebook\n",
    "from transformers import AutoTokenizer\n",
    "from sklearn.feature_extraction.text import TfidfVectorizer\n",
    "from sklearn.decomposition import PCA\n",
    "from sklearn.metrics import RocCurveDisplay, roc_curve, accuracy_score, confusion_matrix, f1_score\n",
    "from sklearn.ensemble import RandomForestClassifier\n",
    "from sklearn.decomposition import TruncatedSVD\n",
    "from sklearn.pipeline import Pipeline as MLPipeline\n",
    "from sklearn.model_selection import train_test_split\n",
    "from fastai.imports import *\n",
    "import kaggle\n",
    "np.set_printoptions(linewidth=130)\n",
    "\n",
    "tqdm.pandas()"
   ]
  },
  {
   "cell_type": "code",
   "execution_count": null,
   "id": "934e44b5-1ce8-4c5c-98df-d896f5e9a0a1",
   "metadata": {},
   "outputs": [
    {
     "name": "stdout",
     "output_type": "stream",
     "text": [
      "Dataset URL: https://www.kaggle.com/datasets/ashwiniyer176/toxic-tweets-dataset\n",
      "License(s): unknown\n",
      "Downloading toxic-tweets-dataset.zip to /tmp\n"
     ]
    },
    {
     "name": "stderr",
     "output_type": "stream",
     "text": [
      "100%|██████████| 2.21M/2.21M [00:00<00:00, 13.6MB/s]"
     ]
    },
    {
     "name": "stdout",
     "output_type": "stream",
     "text": [
      "\n"
     ]
    },
    {
     "name": "stderr",
     "output_type": "stream",
     "text": [
      "\n"
     ]
    },
    {
     "name": "stdout",
     "output_type": "stream",
     "text": [
      "Archive:  /tmp/toxic-tweets-dataset.zip\n",
      "  inflating: FinalBalancedDataset.csv  \n"
     ]
    }
   ],
   "source": [
    "path = Path(\"/tmp/\")\n",
    "kaggle.api.dataset_download_cli(\"ashwiniyer176/toxic-tweets-dataset\", force=True, path=path)\n",
    "! unzip {path / \"toxic-tweets-dataset.zip\"}"
   ]
  },
  {
   "cell_type": "code",
   "execution_count": null,
   "id": "41f4feef-12e8-4f19-bd87-c4f9e5b5b5c3",
   "metadata": {},
   "outputs": [
    {
     "data": {
      "text/html": [
       "<div>\n",
       "<style scoped>\n",
       "    .dataframe tbody tr th:only-of-type {\n",
       "        vertical-align: middle;\n",
       "    }\n",
       "\n",
       "    .dataframe tbody tr th {\n",
       "        vertical-align: top;\n",
       "    }\n",
       "\n",
       "    .dataframe thead th {\n",
       "        text-align: right;\n",
       "    }\n",
       "</style>\n",
       "<table border=\"1\" class=\"dataframe\">\n",
       "  <thead>\n",
       "    <tr style=\"text-align: right;\">\n",
       "      <th></th>\n",
       "      <th>Toxicity</th>\n",
       "      <th>tweet</th>\n",
       "    </tr>\n",
       "  </thead>\n",
       "  <tbody>\n",
       "    <tr>\n",
       "      <th>0</th>\n",
       "      <td>0</td>\n",
       "      <td>@user when a father is dysfunctional and is so selfish he drags his kids into his dysfunction.   #run</td>\n",
       "    </tr>\n",
       "    <tr>\n",
       "      <th>1</th>\n",
       "      <td>0</td>\n",
       "      <td>@user @user thanks for #lyft credit i can't use cause they don't offer wheelchair vans in pdx.    #disapointed #getthanked</td>\n",
       "    </tr>\n",
       "  </tbody>\n",
       "</table>\n",
       "</div>"
      ],
      "text/plain": [
       "   Toxicity  \\\n",
       "0         0   \n",
       "1         0   \n",
       "\n",
       "                                                                                                                        tweet  \n",
       "0                       @user when a father is dysfunctional and is so selfish he drags his kids into his dysfunction.   #run  \n",
       "1  @user @user thanks for #lyft credit i can't use cause they don't offer wheelchair vans in pdx.    #disapointed #getthanked  "
      ]
     },
     "execution_count": null,
     "metadata": {},
     "output_type": "execute_result"
    }
   ],
   "source": [
    "df = pd.read_csv(Path(\".\") / \"FinalBalancedDataset.csv\")\n",
    "! rm {Path(\".\") / \"FinalBalancedDataset.csv\"}\n",
    "df = df.drop(\"Unnamed: 0\", axis=1)\n",
    "df.head(2)"
   ]
  },
  {
   "cell_type": "code",
   "execution_count": null,
   "id": "c20dcd3a-4c26-4414-92fc-fd0b7422b7fd",
   "metadata": {},
   "outputs": [
    {
     "data": {
      "text/plain": [
       "Toxicity\n",
       "0    32592\n",
       "1    24153\n",
       "Name: count, dtype: int64"
      ]
     },
     "execution_count": null,
     "metadata": {},
     "output_type": "execute_result"
    }
   ],
   "source": [
    "df.Toxicity.value_counts()"
   ]
  },
  {
   "cell_type": "code",
   "execution_count": null,
   "id": "47d8149d-0dce-4f05-967d-35de436c372d",
   "metadata": {},
   "outputs": [
    {
     "data": {
      "text/html": [
       "<div>\n",
       "<style scoped>\n",
       "    .dataframe tbody tr th:only-of-type {\n",
       "        vertical-align: middle;\n",
       "    }\n",
       "\n",
       "    .dataframe tbody tr th {\n",
       "        vertical-align: top;\n",
       "    }\n",
       "\n",
       "    .dataframe thead th {\n",
       "        text-align: right;\n",
       "    }\n",
       "</style>\n",
       "<table border=\"1\" class=\"dataframe\">\n",
       "  <thead>\n",
       "    <tr style=\"text-align: right;\">\n",
       "      <th></th>\n",
       "      <th>Toxicity</th>\n",
       "      <th>tweet</th>\n",
       "    </tr>\n",
       "  </thead>\n",
       "  <tbody>\n",
       "    <tr>\n",
       "      <th>13</th>\n",
       "      <td>1</td>\n",
       "      <td>@user #cnn calls #michigan middle school 'build the wall' chant '' #tcot</td>\n",
       "    </tr>\n",
       "    <tr>\n",
       "      <th>14</th>\n",
       "      <td>1</td>\n",
       "      <td>no comment!  in #australia   #opkillingbay #seashepherd #helpcovedolphins #thecove  #helpcovedolphins</td>\n",
       "    </tr>\n",
       "  </tbody>\n",
       "</table>\n",
       "</div>"
      ],
      "text/plain": [
       "    Toxicity  \\\n",
       "13         1   \n",
       "14         1   \n",
       "\n",
       "                                                                                                    tweet  \n",
       "13                             @user #cnn calls #michigan middle school 'build the wall' chant '' #tcot    \n",
       "14  no comment!  in #australia   #opkillingbay #seashepherd #helpcovedolphins #thecove  #helpcovedolphins  "
      ]
     },
     "execution_count": null,
     "metadata": {},
     "output_type": "execute_result"
    }
   ],
   "source": [
    "df.loc[df.Toxicity==1, :].head(2)"
   ]
  },
  {
   "cell_type": "code",
   "execution_count": null,
   "id": "b622cdbe-a2f3-4275-b7b0-9a00185ad893",
   "metadata": {},
   "outputs": [],
   "source": [
    "tokenizer = AutoTokenizer.from_pretrained(\"bert-base-uncased\")"
   ]
  },
  {
   "cell_type": "code",
   "execution_count": null,
   "id": "f6512a0e-83b1-44ad-8480-d6ecf768cb7b",
   "metadata": {},
   "outputs": [
    {
     "data": {
      "text/plain": [
       "30522"
      ]
     },
     "execution_count": null,
     "metadata": {},
     "output_type": "execute_result"
    }
   ],
   "source": [
    "tokenizer.vocab_size"
   ]
  },
  {
   "cell_type": "code",
   "execution_count": null,
   "id": "cf077523-c1b0-4d43-aa8f-54e78cb4b86f",
   "metadata": {},
   "outputs": [],
   "source": [
    "def tokenizefn(s): return tokenizer.tokenize(s)"
   ]
  },
  {
   "cell_type": "code",
   "execution_count": null,
   "id": "d28a9760-b99d-4b78-9819-701bb516f3fb",
   "metadata": {},
   "outputs": [],
   "source": [
    "X, y = list(df.tweet.values.tolist()), df.Toxicity.values.tolist()"
   ]
  },
  {
   "cell_type": "code",
   "execution_count": null,
   "id": "aaa634db-e047-401f-b0db-86fbcc30f6d9",
   "metadata": {},
   "outputs": [],
   "source": [
    "x_train, x_valid, y_train, y_valid = train_test_split(X, y, test_size=0.2)"
   ]
  },
  {
   "cell_type": "code",
   "execution_count": null,
   "id": "74ce77f4-3837-4628-a5bf-e10d5cd124fd",
   "metadata": {},
   "outputs": [
    {
     "data": {
      "text/plain": [
       "(45396, 11349, 45396, 11349)"
      ]
     },
     "execution_count": null,
     "metadata": {},
     "output_type": "execute_result"
    }
   ],
   "source": [
    "len(x_train), len(x_valid), len(y_train), len(y_valid)"
   ]
  },
  {
   "cell_type": "code",
   "execution_count": null,
   "id": "b8cb1592-b034-4868-b67a-d512bf71405c",
   "metadata": {},
   "outputs": [],
   "source": [
    "tfidf = TfidfVectorizer(tokenizer=tokenizefn, vocabulary=tokenizer.vocab, lowercase=False)\n",
    "# pca = PCA(n_components=512)\n",
    "svd = TruncatedSVD(n_components=512)\n",
    "rf = RandomForestClassifier()\n",
    "model = MLPipeline(\n",
    "    [('tfidf', tfidf), \n",
    "     # ('pca', pca), \n",
    "     ('svd',svd),\n",
    "     ('rf', rf)])"
   ]
  },
  {
   "cell_type": "code",
   "execution_count": null,
   "id": "763e939f-5432-4308-8057-e6798e1ad9a7",
   "metadata": {},
   "outputs": [
    {
     "name": "stderr",
     "output_type": "stream",
     "text": [
      "/Users/akhilvempali/miniconda3/envs/ml/lib/python3.9/site-packages/sklearn/feature_extraction/text.py:523: UserWarning: The parameter 'token_pattern' will not be used since 'tokenizer' is not None'\n",
      "  warnings.warn(\n"
     ]
    }
   ],
   "source": [
    "model.fit(x_train, y_train)"
   ]
  },
  {
   "cell_type": "code",
   "execution_count": null,
   "id": "5ce65ac4-ed4c-4d67-a463-604ed8276022",
   "metadata": {},
   "outputs": [],
   "source": [
    "y_preds = model.predict_proba(x_valid)"
   ]
  },
  {
   "cell_type": "code",
   "execution_count": null,
   "id": "d0e277b9-28be-4875-a9bc-ecf9e2d441c7",
   "metadata": {},
   "outputs": [],
   "source": [
    "y_preds = y_preds[:, 1]"
   ]
  },
  {
   "cell_type": "code",
   "execution_count": null,
   "id": "0f42976b-1208-4aa7-8c06-288fd2627c46",
   "metadata": {},
   "outputs": [],
   "source": [
    "fpr, tpr, _ = roc_curve(y_valid, y_preds, pos_label=model.classes_[1])"
   ]
  },
  {
   "cell_type": "code",
   "execution_count": null,
   "id": "35734ea1-6a2b-4014-a77f-9b2a43736927",
   "metadata": {},
   "outputs": [
    {
     "name": "stderr",
     "output_type": "stream",
     "text": [
      "/Users/akhilvempali/miniconda3/envs/ml/lib/python3.9/site-packages/sklearn/metrics/_plot/roc_curve.py:171: UserWarning: No artists with labels found to put in legend.  Note that artists whose label start with an underscore are ignored when legend() is called with no argument.\n",
      "  self.ax_.legend(loc=\"lower right\")\n"
     ]
    },
    {
     "data": {
      "image/png": "[encoded data removed]",
      "text/plain": [
       "<Figure size 640x480 with 1 Axes>"
      ]
     },
     "metadata": {},
     "output_type": "display_data"
    }
   ],
   "source": [
    "roc_display = RocCurveDisplay(fpr=fpr, tpr=tpr).plot()"
   ]
  },
  {
   "cell_type": "code",
   "execution_count": null,
   "id": "619ebcd6-5950-4f91-b41f-50e7cc5d9564",
   "metadata": {},
   "outputs": [
    {
     "name": "stdout",
     "output_type": "stream",
     "text": [
      "accuracy=0.9026345933562429, f1=0.8806824317028399\n"
     ]
    }
   ],
   "source": [
    "thresh = 0.5\n",
    "labels = [1 if x>thresh else 0 for x in y_preds]\n",
    "accuracy = accuracy_score(y_valid, labels)\n",
    "f1 = f1_score(y_valid, labels)\n",
    "print(f\"{accuracy=}, {f1=}\")"
   ]
  },
  {
   "cell_type": "code",
   "execution_count": null,
   "id": "4aeda4a5-e0a2-4064-a529-7ba6554541f4",
   "metadata": {},
   "outputs": [
    {
     "data": {
      "text/plain": [
       "array([[6166,  460],\n",
       "       [ 645, 4078]])"
      ]
     },
     "execution_count": null,
     "metadata": {},
     "output_type": "execute_result"
    }
   ],
   "source": [
    "confusion_matrix(y_valid, labels)"
   ]
  }
 ],
 "metadata": {
  "kernelspec": {
   "display_name": "python3",
   "language": "python",
   "name": "python3"
  }
 },
 "nbformat": 4,
 "nbformat_minor": 5
}
