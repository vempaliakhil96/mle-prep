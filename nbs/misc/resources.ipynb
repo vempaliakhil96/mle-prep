{
 "cells": [
  {
   "cell_type": "markdown",
   "metadata": {},
   "source": [
    "# Resources to refer"
   ]
  },
  {
   "cell_type": "markdown",
   "metadata": {},
   "source": [
    "## blogs to read\n",
    "\n",
    "- [How to Crack Machine learning Interviews at FAANG!](https://medium.com/@reachpriyaa/how-to-crack-machine-learning-interviews-at-faang-78a2882a05c5)\n",
    "- [ML Cheatsheet](https://ml-cheatsheet.readthedocs.io/en/latest/)\n",
    "- [ML Interview Questions](https://www.simplilearn.com/tutorials/machine-learning-tutorial/machine-learning-interview-questions)\n",
    "- [Illustrated Transformer](https://jalammar.github.io/illustrated-transformer/)"
   ]
  },
  {
   "cell_type": "markdown",
   "metadata": {},
   "source": [
    "## Video Series to watch\n",
    "\n",
    "- [Statquest Machine Learning](https://www.youtube.com/watch?v=Gv9_4yMHFhI&list=PLblh5JKOoLUICTaGLRoHQDuF_7q2GfuJF)\n",
    "- [Statquest Statistics](https://www.youtube.com/watch?v=qBigTkBLU6g&list=PLblh5JKOoLUK0FLuzwntyYI10UQFUhsY9) (for statistics review - most useful for Data Science roles)\n",
    "- [Bharthi Priya's Playlist](https://www.youtube.com/playlist?list=PLXmbE5IFg3EEoSAzuqbu7o8Kh8FFhTFPc)\n",
    "- [Structuring Machine Learning Projects](https://www.coursera.org/learn/machine-learning-projects)"
   ]
  },
  {
   "cell_type": "markdown",
   "metadata": {},
   "source": [
    "## Coding Resources\n",
    "\n",
    "- [Graphs](https://leetcode.com/discuss/study-guide/1326900/graph-algorithms-problems-to-practice)"
   ]
  },
  {
   "cell_type": "markdown",
   "metadata": {},
   "source": []
  }
 ],
 "metadata": {},
 "nbformat": 4,
 "nbformat_minor": 2
}
