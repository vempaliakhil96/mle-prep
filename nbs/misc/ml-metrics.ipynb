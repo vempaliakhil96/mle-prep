{
 "cells": [
  {
   "cell_type": "markdown",
   "metadata": {},
   "source": [
    "# ML Metrics"
   ]
  },
  {
   "cell_type": "markdown",
   "metadata": {},
   "source": [
    "## Offline metrics"
   ]
  },
  {
   "cell_type": "markdown",
   "metadata": {},
   "source": [
    "### Recall @k\n",
    "\n",
    "- Definition - evaluates the fraction of relevant items that were retrieved by the model over the total relevant items.\n",
    "- Use cases - used in information retieval, recommendation systems, etc. When we need to ensure that all relavant items are retrieved by the model (in cases where we can't afford to miss any relevant items)."
   ]
  },
  {
   "cell_type": "markdown",
   "metadata": {},
   "source": [
    "### Precision @k\n",
    "\n",
    "- Definition - evaluates the fraction of relevant items that were retrieved by the model over the total items retrieved.\n",
    "- Use cases - used in information retieval, recommendation systems, etc. When we need to ensure that the items retrieved by the model are relevant (in cases where we can't afford to have irrelevant items in the retrieved list)."
   ]
  },
  {
   "cell_type": "markdown",
   "metadata": {},
   "source": [
    "### Mean Reciprocal Rank (MRR)\n",
    "\n",
    "- Definition - MRR measures the effectiveness of a system in ranking the most relevant items at the top of a list. It calculates the average of reciprocal ranks of the first correct item found in each ranked list of results: $ MRR = \\frac{1}{m} * \\sum_{i=1}^{m} \\frac{1}{rank_i} $ where $m$ is the number of queries and $rank_i$ is the position of the first correct item in the ranked list of results for query $i$.\n",
    "- Use cases - useful when we need to ensure that most relavant item is ranked on the top of the list.\n"
   ]
  },
  {
   "cell_type": "markdown",
   "metadata": {},
   "source": [
    "### Mean Average Precision (MAP)\n",
    "\n",
    "- Definition - It is the average precision over all the samples\n",
    "- Use cases - "
   ]
  },
  {
   "cell_type": "markdown",
   "metadata": {},
   "source": [
    "## Online metrics"
   ]
  },
  {
   "cell_type": "markdown",
   "metadata": {},
   "source": [
    "### Click Through Rate (CTR)\n",
    "\n",
    "- Definition - CTR measures the ratio of clicks to impressions. It is calculated as $CTR = \\frac{Clicks}{Impressions}$. Where Impressions is the number of times the ad was shown / recommended and Clicks is the number of times the ad was clicked.\n",
    "\n",
    "- Use cases - Most common metric to see the effectiveness of a algorithm or model in a production environment. Ideally for a recommender system, an improved model would increase the CTR on the recommended items.\n",
    "\n",
    "### Conversion Rate\n",
    "\n",
    "Conversion rate measures the ratio of conversions to clicks. It is calculated as $Conversion Rate = \\frac{Conversions}{Clicks}$. Where Conversions is the number of times the user took the desired action after clicking on the ad.\n",
    "\n",
    "### Bounce Rate\n",
    "\n",
    "Kind of opposite to the conversion rate, bounce rate measures the ratio of users who left the site without performing the desired action."
   ]
  },
  {
   "cell_type": "markdown",
   "metadata": {},
   "source": []
  }
 ],
 "metadata": {},
 "nbformat": 4,
 "nbformat_minor": 2
}
