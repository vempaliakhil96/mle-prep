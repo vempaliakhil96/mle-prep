{
 "cells": [
  {
   "cell_type": "markdown",
   "metadata": {},
   "source": [
    "# Behavioral Questions"
   ]
  },
  {
   "cell_type": "markdown",
   "metadata": {},
   "source": [
    "## Questions\n",
    "\n",
    "- Why do you want to work for X company?\n",
    "- Why do you want to leave your current/last company?\n",
    "- What are you looking for in your next role?\n",
    "- Tell me about a time when you had a conflict with a co-worker.\n",
    "- Tell me about a time in which you had a conflict and needed to influence somebody else.\n",
    "- What project are you currently working on?\n",
    "- What is the most challenging aspect of your current project?\n",
    "- What was the most difficult bug that you fixed in the past 6 months?\n",
    "- How do you tackle challenges? Name a difficult challenge you faced while working on a project, how you overcame it, and what you learned.\n",
    "- What are you excited about?\n",
    "- What frustrates you?\n",
    "- Imagine it is your first day here at the company. What do you want to work on? What features would you improve on?\n",
    "- What are the most interesting projects you have worked on and how might they be relevant to this company's environment?\n",
    "- Tell me about a time you had a disagreement with your manager.\n",
    "- Talk about a project you are most passionate about, or one where you did your best work.\n",
    "- What does your best day of work look like?\n",
    "- What is something that you had to push for in your previous projects?\n",
    "- What is the most constructive feedback you have received in your career?\n",
    "- What is something you had to persevere at for multiple months?\n",
    "- Tell me about a time you met a tight deadline.\n",
    "- If this were your first annual review with our company, what would I be telling you right now?\n",
    "- Time management has become a necessary factor in productivity. Give an example of a time-management skill you've learned and applied at work.\n",
    "- Tell me about a problem you've had getting along with a work associate.\n",
    "- What aspects of your work are most often criticized?\n",
    "- How have you handled criticism of your work?\n",
    "- What strengths do you think are most important for your job position?\n",
    "- What words would your colleagues use to describe you?\n",
    "- What would you hope to achieve in the first six months after being hired?\n",
    "- Tell me why you will be a good fit for the position."
   ]
  },
  {
   "cell_type": "markdown",
   "metadata": {},
   "source": [
    "## Questions to ask the interviewer\n",
    "\n",
    "- What sort of tangible changes has this organization made in regards to promoting gender diversity?\n",
    "- What are the most exciting projects you’ve worked on here?\n",
    "- What do you like most about the organization?\n",
    "- What would you change about the organization?\n",
    "- How has the organization changed since you’ve joined?\n",
    "- What do you like most about working here?\n",
    "- Can you describe the organization’s overall management style and the type of person who usually does well here?\n",
    "- What excites you the most about the organization’s future?\n",
    "- If you could change one thing about the organization, what would it be?\n",
    "- Does the organization have any traditions or rituals that you like?\n",
    "- Where do you see the organization in three years and how would I contribute to that if I’m hired for this role?\n",
    "- What is a challenge the organization is facing right now and how could I contribute to overcoming it?\n",
    "- In what ways might this role change in the next year?\n",
    "- What would the onboarding process be like for this role?\n",
    "- What can you tell me about the position that isn’t in the job description?\n",
    "- Do you expect to do more hiring in this group in the next six months?\n",
    "- What surprised you about the organization after you started working here?\n",
    "- What has allowed you to be successful here?\n",
    "- How does the organization respond to failure?\n",
    "- Tell me about your most successful employees. What do they do that really sets them apart?\n",
    "- What haven’t I asked about that most candidates want to know?\n",
    "- If you were interviewing with your organization again, what questions would you be asking?\n",
    "- (If this is your future boss) How would you describe your management style?\n",
    "- What’s your timeline for the next steps?\n",
    "- Are there resources I could review in advance to get a head start on the learning curve?"
   ]
  }
 ],
 "metadata": {
  "kernelspec": {
   "display_name": "python3",
   "language": "python",
   "name": "python3"
  }
 },
 "nbformat": 4,
 "nbformat_minor": 2
}
