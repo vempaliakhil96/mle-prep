{
 "cells": [
  {
   "cell_type": "markdown",
   "metadata": {},
   "source": [
    "# Token Bucket Rate Limiter"
   ]
  },
  {
   "cell_type": "code",
   "execution_count": null,
   "metadata": {},
   "outputs": [],
   "source": [
    "from collections import defaultdict\n",
    "import time"
   ]
  },
  {
   "cell_type": "code",
   "execution_count": null,
   "metadata": {},
   "outputs": [],
   "source": [
    "class TokenBucketRateLimiter:\n",
    "\n",
    "    def __init__(self, bucket_size=10, time_window=10):\n",
    "        self.request_counter = defaultdict(bool)\n",
    "        self.bucket_size = bucket_size\n",
    "        self.time_window = time_window\n",
    "\n",
    "    def process_request(self, idx):\n",
    "        if not self.request_counter[idx]:\n",
    "            self.request_counter[idx] = (self.bucket_size-1, time.time()+self.time_window)\n",
    "        else:\n",
    "            remaining_tokens, window_expiry = self.request_counter[idx]\n",
    "            if remaining_tokens > 0:\n",
    "                self.request_counter[idx] = (remaining_tokens-1, window_expiry)\n",
    "            elif remaining_tokens == 0 and time.time() >= window_expiry:\n",
    "                self.request_counter[idx] = (self.bucket_size-1, time.time()+self.time_window)\n",
    "            else:\n",
    "                return False\n",
    "        return True"
   ]
  },
  {
   "cell_type": "code",
   "execution_count": null,
   "metadata": {},
   "outputs": [
    {
     "name": "stdout",
     "output_type": "stream",
     "text": [
      "idx=1 valid_request=True time_elapsed=0.0\n",
      "idx=1 valid_request=True time_elapsed=1.0\n",
      "idx=1 valid_request=False time_elapsed=2.0\n",
      "idx=2 valid_request=True time_elapsed=3.0\n",
      "idx=2 valid_request=True time_elapsed=4.0\n",
      "idx=1 valid_request=False time_elapsed=5.0\n",
      "idx=2 valid_request=False time_elapsed=6.0\n",
      "idx=2 valid_request=False time_elapsed=7.0\n",
      "idx=1 valid_request=False time_elapsed=8.0\n"
     ]
    }
   ],
   "source": [
    "rate_limiter = TokenBucketRateLimiter(2, 10)\n",
    "start_time = time.time()\n",
    "for idx in [1,1,1,2,2,1,2,2,1]:\n",
    "    valid_request = rate_limiter.process_request(idx)\n",
    "    time_elapsed = time.time() - start_time\n",
    "    print(f\"{idx=} {valid_request=} {time_elapsed=:0.1f}\")\n",
    "    time.sleep(1)"
   ]
  },
  {
   "cell_type": "code",
   "execution_count": null,
   "metadata": {},
   "outputs": [],
   "source": []
  }
 ],
 "metadata": {
  "kernelspec": {
   "display_name": "python3",
   "language": "python",
   "name": "python3"
  }
 },
 "nbformat": 4,
 "nbformat_minor": 2
}
