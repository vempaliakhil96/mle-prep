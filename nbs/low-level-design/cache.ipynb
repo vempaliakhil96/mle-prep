{
 "cells": [
  {
   "cell_type": "code",
   "execution_count": null,
   "metadata": {},
   "outputs": [],
   "source": [
    "#| code_fold: true\n",
    "#| export\n",
    "from abc import abstractmethod, ABC"
   ]
  },
  {
   "cell_type": "markdown",
   "metadata": {},
   "source": [
    "## Doubly LinkedList"
   ]
  },
  {
   "cell_type": "code",
   "execution_count": null,
   "metadata": {},
   "outputs": [],
   "source": [
    "#| export\n",
    "\n",
    "class DoublyLinkedListNode:\n",
    "    def __init__(self, value, next: \"DoublyLinkedListNode\"=None, prev: \"DoublyLinkedList\"=None):\n",
    "        self.value = value\n",
    "        self.next = next\n",
    "        self.prev = prev\n",
    "\n",
    "class DoublyLinkedList:\n",
    "    def __init__(self):\n",
    "        self.head = None\n",
    "        self.tail = None\n",
    "\n",
    "    def add(self, node: DoublyLinkedListNode):\n",
    "        if not self.head:\n",
    "            self.head = self.tail = node\n",
    "        else:\n",
    "            self.tail.next = node\n",
    "            node.prev = self.tail\n",
    "            self.tail = self.tail.next\n",
    "\n",
    "    def remove(self, node: DoublyLinkedListNode):\n",
    "        if self.head==node:\n",
    "            self.head = self.head.next\n",
    "        elif self.tail==node:\n",
    "            self.tail = self.tail.prev\n",
    "        else:\n",
    "            node.prev.next, node.next.prev = node.next, node.prev\n",
    "        node.next = node.prev = None\n",
    "        return node\n",
    "\n",
    "    def __str__(self):\n",
    "        x = []\n",
    "        t = self.head\n",
    "        while t:\n",
    "            x.append(str(t.value))\n",
    "            t = t.next\n",
    "        return \"<->\".join(x)\n",
    "\n",
    "    def __repr__(self):\n",
    "        return self.__str__()"
   ]
  },
  {
   "cell_type": "markdown",
   "metadata": {},
   "source": [
    "## Storage"
   ]
  },
  {
   "cell_type": "code",
   "execution_count": null,
   "metadata": {},
   "outputs": [],
   "source": [
    "#| export\n",
    "\n",
    "class Storage:\n",
    "    def __init__(self, capacity):\n",
    "        self.capacity = capacity\n",
    "        self.mapp = dict()\n",
    "\n",
    "    def get(self, key: str):\n",
    "        if key in self.mapp:\n",
    "            return self.mapp[key]\n",
    "        else:\n",
    "            raise KeyError\n",
    "\n",
    "    def put(self, key: str, value: str):\n",
    "        if len(self.mapp)==self.capacity:\n",
    "            raise OverflowError\n",
    "        self.mapp[key] = value\n",
    "\n",
    "    def delete(self, key: str):\n",
    "        self.mapp.pop(key)"
   ]
  },
  {
   "cell_type": "markdown",
   "metadata": {},
   "source": [
    "## Eviction policies"
   ]
  },
  {
   "cell_type": "code",
   "execution_count": null,
   "metadata": {},
   "outputs": [],
   "source": [
    "#| export\n",
    "\n",
    "class EvictionPolicy(ABC):\n",
    "    @abstractmethod\n",
    "    def key_accessed(self, key: str): pass\n",
    "\n",
    "    @abstractmethod\n",
    "    def remove(self): pass\n",
    "\n",
    "class LRUPolicy(EvictionPolicy):\n",
    "    def __init__(self):\n",
    "        self.value_node_map = dict()\n",
    "        self.ll = DoublyLinkedList()\n",
    "\n",
    "    def key_accessed(self, key: str):\n",
    "        if key not in self.value_node_map:\n",
    "            node = DoublyLinkedListNode(key)\n",
    "            self.ll.add(node)\n",
    "            self.value_node_map[key] = node\n",
    "        else:\n",
    "            node = self.value_node_map[key]\n",
    "            node = self.ll.remove(node)\n",
    "            self.ll.add(node)\n",
    "\n",
    "    def remove(self):\n",
    "        node = self.ll.head\n",
    "        self.ll.head = node.next\n",
    "        self.ll.head.prev = None\n",
    "        self.value_node_map.pop(node.value)\n",
    "        return node.value\n"
   ]
  },
  {
   "cell_type": "markdown",
   "metadata": {},
   "source": [
    "## Cache class"
   ]
  },
  {
   "cell_type": "code",
   "execution_count": null,
   "metadata": {},
   "outputs": [],
   "source": [
    "#| export\n",
    "\n",
    "class Cache:\n",
    "    def __init__(self, capacity: int):\n",
    "        self.capacity = capacity\n",
    "        self.storage = Storage(capacity)\n",
    "        self.eviction_policy = LRUPolicy()\n",
    "\n",
    "    def get(self, key):\n",
    "        self.eviction_policy.key_accessed(key)\n",
    "        return self.storage.get(key)\n",
    "\n",
    "    def put(self, key, value):\n",
    "        try:\n",
    "            self.storage.put(key, value)\n",
    "        except OverflowError as overflow:\n",
    "            key_to_remove = self.eviction_policy.remove()\n",
    "            print(f\"{self.capacity=} reached {key_to_remove=}\")\n",
    "            self.storage.delete(key_to_remove)\n",
    "            self.storage.put(key, value)\n",
    "        self.eviction_policy.key_accessed(key)\n",
    "    "
   ]
  },
  {
   "cell_type": "code",
   "execution_count": null,
   "metadata": {},
   "outputs": [
    {
     "name": "stdout",
     "output_type": "stream",
     "text": [
      "self.capacity=5 reached key_to_remove='2'\n",
      "self.capacity=5 reached key_to_remove='3'\n",
      "self.capacity=5 reached key_to_remove='5'\n"
     ]
    }
   ],
   "source": [
    "lru_cache = Cache(5)\n",
    "actions = [\n",
    "    lru_cache.put('1', 'a'),\n",
    "    lru_cache.put('2', 'b'),\n",
    "    lru_cache.get('1'),\n",
    "    lru_cache.put('3', 'c'),\n",
    "    lru_cache.put('4', 'd'),\n",
    "    lru_cache.put('5', 'e'),\n",
    "    lru_cache.put('6', 'f'),\n",
    "    lru_cache.get('1'),\n",
    "    lru_cache.put('7', 'g'),\n",
    "    lru_cache.get('4'),\n",
    "    lru_cache.put('8', 'h'),\n",
    "]"
   ]
  }
 ],
 "metadata": {
  "kernelspec": {
   "display_name": "python3",
   "language": "python",
   "name": "python3"
  }
 },
 "nbformat": 4,
 "nbformat_minor": 2
}
