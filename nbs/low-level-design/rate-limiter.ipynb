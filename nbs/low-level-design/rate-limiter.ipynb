{
 "cells": [
  {
   "cell_type": "code",
   "execution_count": null,
   "metadata": {},
   "outputs": [],
   "source": [
    "#| default_exp rate_limiter"
   ]
  },
  {
   "cell_type": "markdown",
   "metadata": {},
   "source": [
    "# Rate Limiter"
   ]
  },
  {
   "cell_type": "code",
   "execution_count": null,
   "metadata": {},
   "outputs": [],
   "source": [
    "#| export\n",
    "\n",
    "from collections import deque, defaultdict\n",
    "from abc import ABC, abstractmethod\n",
    "import time"
   ]
  },
  {
   "cell_type": "code",
   "execution_count": null,
   "metadata": {},
   "outputs": [],
   "source": [
    "#| export\n",
    "#| echo: true\n",
    "\n",
    "class RateLimiter(ABC):\n",
    "\n",
    "    def __init__(self, time_window: int=float('inf'), num_requests: int=float('inf')):\n",
    "        self.time_window = time_window\n",
    "        self.num_requests = num_requests\n",
    "\n",
    "    def grant_access(self):\n",
    "        return \"ACCESS_GRANTED\"\n",
    "\n",
    "    def restrict_access(self):\n",
    "        return \"TOO_MANY_REQUESTS\"\n",
    "    \n",
    "    def is_valid_request(self, user_id):\n",
    "        if self.is_valid(user_id): return self.grant_access()\n",
    "        else: return self.restrict_access()\n",
    "    \n",
    "    @abstractmethod\n",
    "    def is_valid(self, user_id):\n",
    "        pass\n",
    "\n",
    "    @property\n",
    "    def current_time(self):\n",
    "        return time.time()\n"
   ]
  },
  {
   "cell_type": "code",
   "execution_count": null,
   "metadata": {},
   "outputs": [],
   "source": [
    "#| export\n",
    "#| echo: true\n",
    "\n",
    "class SlidingWindowRateLimiter(RateLimiter):\n",
    "    def __init__(self, time_window: int = float('inf'), num_requests: int = float('inf')):\n",
    "        super().__init__(time_window, num_requests)\n",
    "        self.user_id_map = defaultdict(deque)\n",
    "    \n",
    "    def is_valid(self, user_id):\n",
    "        q = self.user_id_map[user_id]\n",
    "        while q and q[0]<self.current_time-self.time_window:\n",
    "            q.popleft()\n",
    "        if len(q)+1<=self.num_requests:\n",
    "            q.append(self.current_time)\n",
    "            return True\n",
    "        return False\n",
    "    \n",
    "    def __str__(self):\n",
    "        return str(self.user_id_map)"
   ]
  },
  {
   "cell_type": "code",
   "execution_count": null,
   "metadata": {},
   "outputs": [],
   "source": [
    "#| export\n",
    "#| echo: true\n",
    "\n",
    "class TokenBucketRateLimiter(RateLimiter):\n",
    "    def __init__(self, time_window: int = float('inf'), num_requests: int = float('inf')):\n",
    "        super().__init__(time_window, num_requests)\n",
    "        self.user_id_map = defaultdict(lambda: num_requests)\n",
    "        self.last_update_time = self.current_time\n",
    "\n",
    "    def is_valid(self, user_id):\n",
    "        self.user_id_map[user_id] += int(self.num_requests*(self.current_time-self.last_update_time)/self.time_window)\n",
    "        self.last_update_time = self.current_time\n",
    "        if self.user_id_map[user_id]>0:\n",
    "            self.user_id_map[user_id]-=1\n",
    "            return True\n",
    "        return False\n",
    "    \n",
    "    def __str__(self):\n",
    "        return str(self.user_id_map)"
   ]
  },
  {
   "cell_type": "code",
   "execution_count": null,
   "metadata": {},
   "outputs": [],
   "source": []
  }
 ],
 "metadata": {
  "kernelspec": {
   "display_name": "python3",
   "language": "python",
   "name": "python3"
  }
 },
 "nbformat": 4,
 "nbformat_minor": 2
}
