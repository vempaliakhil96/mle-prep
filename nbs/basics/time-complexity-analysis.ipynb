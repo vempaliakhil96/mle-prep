{
 "cells": [
  {
   "cell_type": "markdown",
   "id": "73b8c4cd-d5bc-4376-b7b3-f5f33d82b68d",
   "metadata": {},
   "source": [
    "# Time Complexity Analysis"
   ]
  },
  {
   "cell_type": "markdown",
   "id": "9ca82a35-52b6-43fe-8b3c-d9c62d65c054",
   "metadata": {},
   "source": [
    "## Fundamentals\n",
    "\n",
    "We analyse complexity for mainly:\n",
    "1. Very large input sizes\n",
    "2. Worst case scenarios\n",
    "\n",
    "If $T(n) = n^3 + 3*n^2 + 4^n + 2$ then for $n \\rightarrow \\infty$ , $T(n) \\approx n^3$ which means $O(n^3)$\n",
    "\n",
    "Basically, \n",
    "1. drop the lower order terms.\n",
    "2. drop the constant multiplier.\n",
    "\n"
   ]
  },
  {
   "cell_type": "markdown",
   "id": "8a8f325b-0c21-4b88-81c7-88da19cf4db8",
   "metadata": {},
   "source": [
    "![](../assets/time-complexity-chart.png)"
   ]
  },
  {
   "cell_type": "markdown",
   "id": "169add9c-a1c7-4d88-ae16-8724d334ad6e",
   "metadata": {},
   "source": [
    "## Rules\n",
    "\n",
    "1. Running time = $\\sum$ running time of all fragments\n",
    "2. Conditional Statements: Pick complexity of condition which is the **worst case**"
   ]
  },
  {
   "cell_type": "markdown",
   "id": "d5dc4b46-f1e4-40dc-999d-a73b9edb21e7",
   "metadata": {},
   "source": [
    "## Types\n",
    "\n",
    "1. Constant time – O(1)\n",
    "2. Linear time – O(n)\n",
    "3. Logarithmic time – O(log n)\n",
    "4. Quadratic time – O(n^2)\n",
    "5. Cubic time – O(n^3)\n",
    "6. Factorial time - O(n!)"
   ]
  },
  {
   "cell_type": "code",
   "execution_count": null,
   "id": "c7a5819a-db0f-4baa-818b-1fa78e50cc3d",
   "metadata": {},
   "outputs": [],
   "source": []
  }
 ],
 "metadata": {
  "kernelspec": {
   "display_name": "python3",
   "language": "python",
   "name": "python3"
  }
 },
 "nbformat": 4,
 "nbformat_minor": 5
}
