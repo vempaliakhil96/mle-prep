{
 "cells": [
  {
   "cell_type": "markdown",
   "metadata": {},
   "source": [
    "# 230. Kth Smallest Element in a BST"
   ]
  },
  {
   "cell_type": "markdown",
   "metadata": {},
   "source": [
    "## Problem\n",
    "\n",
    "[link](https://leetcode.com/problems/kth-smallest-element-in-a-bst/)\n",
    "\n",
    "Given the `root` of a binary search tree, and an integer `k`, return the `kth` smallest value **(1-indexed)** of all the values of the nodes in the tree.\n",
    "\n",
    "![](../../assets/lc-230-e1.jpeg)\n",
    "```code\n",
    "Example 1:\n",
    "Input: root = [3,1,4,null,2], k = 1\n",
    "Output: 1\n",
    "```\n",
    "![](../../assets/lc-230-e2.jpeg)\n",
    "```code\n",
    "Example 2:\n",
    "Input: root = [5,3,6,2,4,null,null,1], k = 3\n",
    "Output: 3\n",
    "```\n",
    "\n",
    "## Constraints\n",
    "\n",
    "- The number of nodes in the tree is `n`.\n",
    "- `1 <= k <= n <= 10^4`\n",
    "- `0 <= Node.val <= 10^4`\n",
    "\n",
    "**Follow up:** If the BST is modified often (i.e., we can do insert and delete operations) and you need to find the kth smallest frequently, how would you optimize?\n",
    "\n",
    "## Solution"
   ]
  },
  {
   "cell_type": "code",
   "execution_count": null,
   "metadata": {},
   "outputs": [],
   "source": [
    "# Definition for a binary tree node.\n",
    "from typing import Optional\n",
    "\n",
    "\n",
    "class TreeNode:\n",
    "    def __init__(self, val=0, left=None, right=None):\n",
    "        self.val = val\n",
    "        self.left = left\n",
    "        self.right = right\n",
    "\n",
    "\n",
    "class Solution:\n",
    "    def kthSmallest(self, root: Optional[TreeNode], k: int) -> int:\n",
    "\n",
    "        def rec(node):\n",
    "            nonlocal k\n",
    "            if node is None:\n",
    "                return None\n",
    "            left = rec(node.left)\n",
    "            if isinstance(left, int):\n",
    "                return left\n",
    "            k -= 1\n",
    "            if k == 0:\n",
    "                return node.val\n",
    "            return rec(node.right)\n",
    "\n",
    "        return rec(root)"
   ]
  }
 ],
 "metadata": {},
 "nbformat": 4,
 "nbformat_minor": 2
}
