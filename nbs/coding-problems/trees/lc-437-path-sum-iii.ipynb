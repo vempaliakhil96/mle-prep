{
 "cells": [
  {
   "cell_type": "markdown",
   "metadata": {},
   "source": [
    "# 437. Path Sum III"
   ]
  },
  {
   "cell_type": "markdown",
   "metadata": {},
   "source": [
    "## Problem\n",
    "\n",
    "[link](https://leetcode.com/problems/path-sum-iii/)\n",
    "\n",
    "Given the `root` of a binary tree and an integer `targetSum`, return the number of paths where the sum of the values along the path equals `targetSum`.\n",
    "\n",
    "The path does not need to start or end at the root or a leaf, but it must go downwards (i.e., traveling only from parent nodes to child nodes).\n",
    "\n",
    "![](../../assets/lc-437-e1.jpeg)\n",
    "```code\n",
    "Example 1:\n",
    "Input: root = [10,5,-3,3,2,null,11,3,-2,null,1], targetSum = 8\n",
    "Output: 3\n",
    "Explanation: The paths that sum to 8 are shown.\n",
    "\n",
    "Example 2:\n",
    "Input: root = [5,4,8,11,null,13,4,7,2,null,null,5,1], targetSum = 22\n",
    "Output: 3\n",
    "```\n",
    "\n",
    "## Constraints\n",
    "\n",
    "- The number of nodes in the tree is in the range `[0, 1000]`.\n",
    "- `-10^9 <= Node.val <= 10^9`\n",
    "- `-1000 <= targetSum <= 1000`\n",
    "\n",
    "## Solution"
   ]
  },
  {
   "cell_type": "code",
   "execution_count": null,
   "metadata": {},
   "outputs": [],
   "source": [
    "from collections import defaultdict\n",
    "from typing import Optional\n",
    "class TreeNode:\n",
    "    def __init__(self, val=0, left=None, right=None):\n",
    "        self.val = val\n",
    "        self.left = left\n",
    "        self.right = right\n",
    "\n",
    "class Solution:\n",
    "    def pathSum(self, root: Optional[TreeNode], targetSum: int) -> int:\n",
    "\n",
    "        count = 0\n",
    "        prefix_sums = defaultdict(int)\n",
    "        \n",
    "        def dfs(n=root, summ=0):\n",
    "            nonlocal count\n",
    "            if not n: return n\n",
    "\n",
    "            summ += n.val\n",
    "\n",
    "            if summ==targetSum: count += 1 # if there is a prefix sum that equals to targetSum, then there is a path that equals to targetSum\n",
    "\n",
    "            count += prefix_sums[summ-targetSum] # if there is a prefix sum that equals to summ-targetSum, then there is a path that equals to targetSum\n",
    "\n",
    "            prefix_sums[summ] += 1\n",
    "\n",
    "            dfs(n.left, summ)\n",
    "            dfs(n.right, summ)\n",
    "\n",
    "            prefix_sums[summ] -= 1\n",
    "        \n",
    "        dfs()\n",
    "        return count"
   ]
  }
 ],
 "metadata": {},
 "nbformat": 4,
 "nbformat_minor": 2
}
