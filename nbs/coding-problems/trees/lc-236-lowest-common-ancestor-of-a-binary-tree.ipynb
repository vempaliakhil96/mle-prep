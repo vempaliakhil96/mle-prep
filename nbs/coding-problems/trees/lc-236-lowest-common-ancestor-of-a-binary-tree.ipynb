{
 "cells": [
  {
   "cell_type": "markdown",
   "metadata": {},
   "source": [
    "# 236. Lowest Common Ancestor of a Binary Tree"
   ]
  },
  {
   "cell_type": "markdown",
   "metadata": {},
   "source": [
    "## Problem\n",
    "\n",
    "[Link](https://leetcode.com/problems/lowest-common-ancestor-of-a-binary-tree)\n",
    "\n",
    "Given a binary tree, find the lowest common ancestor (LCA) of two given nodes in the tree.\n",
    "\n",
    "According to the definition of LCA on Wikipedia: “The lowest common ancestor is defined between two nodes `p` and `q` as the lowest node in `T` that has both `p` and `q` as descendants (where we allow a **node to be a descendant of itself**).”\n",
    "\n",
    "![](../../assets/lc-236-e1.png)\n",
    "```code\n",
    "Example 1:\n",
    "Input: root = [3,5,1,6,2,0,8,null,null,7,4], p = 5, q = 1\n",
    "Output: 3\n",
    "Explanation: The LCA of nodes 5 and 1 is 3.\n",
    "```\n",
    "![](../../assets/lc-236-e2.png)\n",
    "```code\n",
    "Example 2:\n",
    "Input: root = [3,5,1,6,2,0,8,null,null,7,4], p = 5, q = 4\n",
    "Output: 5\n",
    "Explanation: The LCA of nodes 5 and 4 is 5, since a node can be a descendant of itself according to the LCA definition.\n",
    "\n",
    "Example 3:\n",
    "Input: root = [1,2], p = 1, q = 2\n",
    "Output: 1\n",
    "```\n",
    "\n",
    "## Constraints\n",
    "\n",
    "- The number of nodes in the tree is in the range `[2, 10^5]`.\n",
    "- `-10^9 <= Node.val <= 10^9`\n",
    "- All `Node.val` are unique.\n",
    "- `p != q`\n",
    "- `p` and `q` will exist in the tree.\n",
    "\n",
    "## Solution"
   ]
  },
  {
   "cell_type": "code",
   "execution_count": null,
   "metadata": {},
   "outputs": [],
   "source": [
    "# Definition for a binary tree node.\n",
    "class TreeNode:\n",
    "    def __init__(self, x):\n",
    "        self.val = x\n",
    "        self.left = None\n",
    "        self.right = None\n",
    "\n",
    "class Solution:\n",
    "    def lowestCommonAncestor(self, root: 'TreeNode', p: 'TreeNode', q: 'TreeNode') -> 'TreeNode':\n",
    "\n",
    "        if root in {p, q}: return root\n",
    "\n",
    "        left = right = None\n",
    "\n",
    "        if root.left: left = self.lowestCommonAncestor(root.left, p, q)\n",
    "        if root.right: right = self.lowestCommonAncestor(root.right, p, q)\n",
    "        \n",
    "        if left and right: return root\n",
    "        else: return left or right\n"
   ]
  }
 ],
 "metadata": {},
 "nbformat": 4,
 "nbformat_minor": 2
}
