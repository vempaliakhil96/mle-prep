{
 "cells": [
  {
   "cell_type": "markdown",
   "metadata": {},
   "source": [
    "# 101. Symmetric Tree"
   ]
  },
  {
   "cell_type": "markdown",
   "metadata": {},
   "source": [
    "## Problem\n",
    "\n",
    "[Link](https://leetcode.com/problems/symmetric-tree/)\n",
    "\n",
    "Given the `root` of a binary tree, check whether it is a mirror of itself (i.e., symmetric around its center).\n",
    "\n",
    "![](../../assets/lc-101-e1.jpeg)\n",
    "```code\n",
    "Example 1:\n",
    "Input: root = [1,2,2,3,4,4,3]\n",
    "Output: true\n",
    "```\n",
    "![](../../assets/lc-101-e2.jpeg)\n",
    "```code\n",
    "Example 2:\n",
    "Input: root = [1,2,2,null,3,null,3]\n",
    "Output: false\n",
    "```\n",
    "\n",
    "## Constraints\n",
    "\n",
    "- The number of nodes in the tree is in the range `[1, 1000]`.\n",
    "- `-100 <= Node.val <= 100`\n",
    "\n",
    "## Solution"
   ]
  },
  {
   "cell_type": "code",
   "execution_count": null,
   "metadata": {},
   "outputs": [],
   "source": [
    "from typing import Optional\n",
    "\n",
    "# Definition for a binary tree node.\n",
    "class TreeNode:\n",
    "    def __init__(self, val=0, left=None, right=None):\n",
    "        self.val = val\n",
    "        self.left = left\n",
    "        self.right = right\n",
    "\n",
    "class Solution:\n",
    "    def isSymmetric(self, root: Optional[TreeNode]) -> bool:\n",
    "\n",
    "        if not root: return True\n",
    "        \n",
    "        def is_symmetric(left_node, right_node):\n",
    "            if left_node is None or right_node is None: return left_node==right_node\n",
    "\n",
    "            return left_node.val==right_node.val and \\\n",
    "            is_symmetric(left_node.left, right_node.right) and \\\n",
    "                is_symmetric(left_node.right, right_node.left)\n",
    "        \n",
    "        return is_symmetric(root.left, root.right)\n",
    "    "
   ]
  }
 ],
 "metadata": {},
 "nbformat": 4,
 "nbformat_minor": 2
}
