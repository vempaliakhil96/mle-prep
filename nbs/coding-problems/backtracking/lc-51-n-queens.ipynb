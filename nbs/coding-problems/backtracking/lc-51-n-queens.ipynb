{
 "cells": [
  {
   "cell_type": "markdown",
   "metadata": {},
   "source": [
    "# 51. N-Queens"
   ]
  },
  {
   "cell_type": "markdown",
   "metadata": {},
   "source": [
    "## Problem\n",
    "\n",
    "[Link](https://leetcode.com/problems/n-queens/)\n",
    "\n",
    "The **n-queens** puzzle is the problem of placing `n` queens on an `n x n` chessboard such that no two queens attack each other.\n",
    "\n",
    "Given an integer `n`, return all distinct solutions to the **n-queens puzzle**. You may return the answer in **any order**.\n",
    "\n",
    "Each solution contains a distinct board configuration of the n-queens' placement, where `'Q'` and `'.'` both indicate a queen and an empty space, respectively.\n",
    "\n",
    "![](../../assets/lc-51-e1.jpeg)\n",
    "```code\n",
    "Example 1:\n",
    "Input: n = 4\n",
    "Output: [[\".Q..\",\"...Q\",\"Q...\",\"..Q.\"],[\"..Q.\",\"Q...\",\"...Q\",\".Q..\"]]\n",
    "Explanation: There exist two distinct solutions to the 4-queens puzzle as shown above\n",
    "Example 2:\n",
    "\n",
    "Input: n = 1\n",
    "Output: [[\"Q\"]]\n",
    "```\n",
    "\n",
    "## Constraints:\n",
    "\n",
    "- `1 <= n <= 9`\n",
    "\n",
    "## Solution"
   ]
  },
  {
   "cell_type": "code",
   "execution_count": null,
   "metadata": {},
   "outputs": [],
   "source": [
    "from typing import List\n",
    "class Solution:\n",
    "    def solveNQueens(self, n: int) -> List[List[str]]:\n",
    "\n",
    "        cols, ldiags, rdiags = set(), set(), set()\n",
    "        state = [[\".\"]*n for _ in range(n)]\n",
    "        res = []\n",
    "\n",
    "        def backtrack(r):\n",
    "            if r==n: res.append([\"\".join(row) for row in state]); return\n",
    "\n",
    "            for c in range(n):\n",
    "                diff = r-c\n",
    "                summ = r+c\n",
    "                \n",
    "                if c not in cols and diff not in ldiags and summ not in rdiags:\n",
    "                    cols.add(c) # column add\n",
    "                    rdiags.add(summ) # right diagonal add\n",
    "                    ldiags.add(diff) # left diagonal add\n",
    "                    state[r][c] = \"Q\" # place queen\n",
    "                    backtrack(r+1) # next row\n",
    "                    cols.remove(c) # column remove\n",
    "                    rdiags.remove(summ) # right diagonal remove\n",
    "                    ldiags.remove(diff) # left diagonal remove\n",
    "                    state[r][c] = \".\" # remove queen\n",
    "        backtrack(0)\n",
    "        return res\n"
   ]
  }
 ],
 "metadata": {},
 "nbformat": 4,
 "nbformat_minor": 2
}
