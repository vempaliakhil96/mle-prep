{
 "cells": [
  {
   "cell_type": "markdown",
   "metadata": {},
   "source": [
    "# 790. Domino and Tromino Tiling"
   ]
  },
  {
   "cell_type": "markdown",
   "metadata": {},
   "source": [
    "## Problem\n",
    "\n",
    "You have two types of tiles: a `2 x 1` domino shape and a tromino shape. You may rotate these shapes.\n",
    "\n",
    "![](../../assets/lc-790.jpeg)\n",
    "\n",
    "Given an integer `n`, return the *number of ways* to tile an `2 x n` board. Since the answer may be very large, return it **modulo** `10^9 + 7`.\n",
    "\n",
    "In a tiling, every square must be covered by a tile. Two tilings are different if and only if there are two 4-directionally adjacent cells on the board such that exactly one of the tilings has both squares occupied by a tile.\n",
    "\n",
    "![](../../assets/lc-790-e1.jpeg)\n",
    "```code\n",
    "Example 1:\n",
    "Input: n = 3\n",
    "Output: 5\n",
    "Explanation: The five different ways are show above.\n",
    "\n",
    "Example 2:\n",
    "Input: n = 1\n",
    "Output: 1\n",
    "```\n",
    "\n",
    "## Constraints\n",
    "\n",
    "- `1 <= n <= 1000`\n",
    "\n",
    "## Solution\n",
    "\n",
    "![](../../assets/lc-790-sol.png)\n"
   ]
  },
  {
   "cell_type": "code",
   "execution_count": null,
   "metadata": {},
   "outputs": [],
   "source": [
    "class Solution:\n",
    "    def numTilings(self, n: int) -> int:\n",
    "\n",
    "        MOD = 10**9 + 7\n",
    "        if n<=2: return max(n,1)\n",
    "        dp = [0]*(n+1)\n",
    "        dp[0], dp[1], dp[2] = 1, 1, 2\n",
    "\n",
    "        for i in range(3,n+1): dp[i] = 2*dp[i-1]+dp[i-3]\n",
    "\n",
    "        return dp[-1] % MOD\n"
   ]
  }
 ],
 "metadata": {
  "kernelspec": {
   "display_name": "python3",
   "language": "python",
   "name": "python3"
  }
 },
 "nbformat": 4,
 "nbformat_minor": 2
}
