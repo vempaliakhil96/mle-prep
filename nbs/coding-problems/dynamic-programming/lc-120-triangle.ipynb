{
 "cells": [
  {
   "cell_type": "markdown",
   "metadata": {},
   "source": [
    "# 120. Triangle"
   ]
  },
  {
   "cell_type": "markdown",
   "metadata": {},
   "source": [
    "## Problem\n",
    "\n",
    "[Link](https://leetcode.com/problems/triangle)\n",
    "\n",
    "Given a `triangle` array, return the minimum path sum from top to bottom.\n",
    "\n",
    "For each step, you may move to an adjacent number of the row below. More formally, if you are on index `i` on the current row, you may move to either index `i` or index `i + 1` on the next row.\n",
    "\n",
    "```code\n",
    "Example 1:\n",
    "\n",
    "Input: triangle = [[2],[3,4],[6,5,7],[4,1,8,3]]\n",
    "Output: 11\n",
    "Explanation: The triangle looks like:\n",
    "   2\n",
    "  3 4\n",
    " 6 5 7\n",
    "4 1 8 3\n",
    "The minimum path sum from top to bottom is 2 + 3 + 5 + 1 = 11 (underlined above).\n",
    "Example 2:\n",
    "\n",
    "Input: triangle = [[-10]]\n",
    "Output: -10\n",
    "```\n",
    "\n",
    "## Constraints\n",
    "\n",
    "- `1 <= triangle.length <= 200`\n",
    "- `triangle[0].length == 1`\n",
    "- `triangle[i].length == triangle[i - 1].length + 1`\n",
    "- `-104 <= triangle[i][j] <= 104`\n",
    "\n",
    "**Follow up:** Could you do this using only O(n) extra space, where n is the total number of rows in the triangle?\n",
    "\n",
    "## Solution\n",
    "\n",
    "### Approach 1: "
   ]
  },
  {
   "cell_type": "code",
   "execution_count": null,
   "metadata": {},
   "outputs": [],
   "source": [
    "from functools import lru_cache\n",
    "from typing import List\n",
    "\n",
    "class Solution:\n",
    "    def minimumTotal(self, triangle: List[List[int]]) -> int:\n",
    "\n",
    "        @lru_cache\n",
    "        def f(l=0, i=0):\n",
    "            if l == len(triangle): return 0\n",
    "            return triangle[l][i] + min(f(l+1, i), f(l+1, i+1))\n",
    "        \n",
    "        return f()\n"
   ]
  },
  {
   "cell_type": "markdown",
   "metadata": {},
   "source": [
    "### Approach 2:"
   ]
  },
  {
   "cell_type": "code",
   "execution_count": null,
   "metadata": {},
   "outputs": [],
   "source": [
    "class Solution:\n",
    "    def minimumTotal(self, triangle: List[List[int]]) -> int:\n",
    "\n",
    "        dp = triangle[-1] # copy the last row of the triangle\n",
    "\n",
    "        for i in range(len(triangle)-2, -1, -1): # iterate from the second last row to the first row\n",
    "            for j in range(len(triangle[i])): # iterate over the elements of the current row\n",
    "                dp[j] = triangle[i][j] + min(dp[j], dp[j+1]) # update the dp array with the minimum sum\n",
    "        \n",
    "            # after each layer, the dp array will store the minimum sum of the path from the current element to the bottom\n",
    "        \n",
    "        return dp[0]\n"
   ]
  }
 ],
 "metadata": {
  "kernelspec": {
   "display_name": "python3",
   "language": "python",
   "name": "python3"
  }
 },
 "nbformat": 4,
 "nbformat_minor": 2
}
