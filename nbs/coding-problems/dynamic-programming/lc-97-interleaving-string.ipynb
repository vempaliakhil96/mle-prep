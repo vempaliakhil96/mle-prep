{
 "cells": [
  {
   "cell_type": "markdown",
   "metadata": {},
   "source": [
    "# 97. Interleaving String"
   ]
  },
  {
   "cell_type": "markdown",
   "metadata": {},
   "source": [
    "## Problem\n",
    "\n",
    "[Link](https://leetcode.com/problems/interleaving-string/)\n",
    "\n",
    "Given strings `s1`, `s2`, and `s3`, find whether `s3` is formed by an interleaving of `s1` and `s2`.\n",
    "\n",
    "An interleaving of two strings `s` and `t` is a configuration where `s` and `t` are divided into `n` and `m` \n",
    "substrings respectively, such that:\n",
    "\n",
    "- `s = s1 + s2 + ... + sn`\n",
    "- `t = t1 + t2 + ... + tm`\n",
    "- `|n - m| <= 1`\n",
    "- The **interleaving** is `s1 + t1 + s2 + t2 + s3 + t3 + ...` or `t1 + s1 + t2 + s2 + t3 + s3 + ...`\n",
    "\n",
    "**Note:** a + b is the concatenation of strings a and b.\n",
    "\n",
    "![](../../assets/lc-97-ex-1.jpeg)\n",
    "```code\n",
    "Example 1:\n",
    "Input: s1 = \"aabcc\", s2 = \"dbbca\", s3 = \"aadbbcbcac\"\n",
    "Output: true\n",
    "Explanation: One way to obtain s3 is:\n",
    "Split s1 into s1 = \"aa\" + \"bc\" + \"c\", and s2 into s2 = \"dbbc\" + \"a\".\n",
    "Interleaving the two splits, we get \"aa\" + \"dbbc\" + \"bc\" + \"a\" + \"c\" = \"aadbbcbcac\".\n",
    "Since s3 can be obtained by interleaving s1 and s2, we return true.\n",
    "\n",
    "Example 2:\n",
    "Input: s1 = \"aabcc\", s2 = \"dbbca\", s3 = \"aadbbbaccc\"\n",
    "Output: false\n",
    "Explanation: Notice how it is impossible to interleave s2 with any other string to obtain s3.\n",
    "\n",
    "Example 3:\n",
    "Input: s1 = \"\", s2 = \"\", s3 = \"\"\n",
    "Output: true\n",
    "```\n",
    "\n",
    "## Constraints\n",
    "\n",
    "- `0 <= s1.length, s2.length <= 100`\n",
    "- `0 <= s3.length <= 200`\n",
    "- `s1`, `s2`, and `s3` consist of lowercase English letters.\n",
    "\n",
    "**Follow up:** Could you solve it using only `O(s2.length)` additional memory space?"
   ]
  },
  {
   "cell_type": "code",
   "execution_count": null,
   "metadata": {},
   "outputs": [],
   "source": [
    "from functools import lru_cache\n",
    "class Solution:\n",
    "    @lru_cache\n",
    "    def isInterleave(self, s1: str, s2: str, s3: str) -> bool:\n",
    "        if len(s1)+len(s2)!=len(s3): return False\n",
    "        if s1==\"\" and s2==\"\" and s3==\"\": return True\n",
    "        if s1==\"\": return s2==s3\n",
    "        if s2==\"\": return s1==s3\n",
    "        \n",
    "        c1, c2, c3 = s1[0], s2[0], s3[0]\n",
    "\n",
    "        if c1==c3 and c2==c3: return self.isInterleave(s1[1:], s2, s3[1:]) or self.isInterleave(s1, s2[1:], s3[1:])\n",
    "        elif c1==c3: return self.isInterleave(s1[1:], s2, s3[1:])\n",
    "        elif c2==c3: return self.isInterleave(s1, s2[1:], s3[1:])\n",
    "        else: return False"
   ]
  }
 ],
 "metadata": {},
 "nbformat": 4,
 "nbformat_minor": 2
}
