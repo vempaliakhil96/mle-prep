{
 "cells": [
  {
   "cell_type": "markdown",
   "metadata": {},
   "source": [
    "# 72. Edit Distance"
   ]
  },
  {
   "cell_type": "markdown",
   "metadata": {},
   "source": [
    "## Problem\n",
    "\n",
    "[Link](https://leetcode.com/problems/edit-distance)\n",
    "\n",
    "Given two strings `word1` and `word2`, return the minimum number of operations required to convert `word1` to `word2`.\n",
    "\n",
    "You have the following three operations permitted on a word:\n",
    "\n",
    "- Insert a character\n",
    "- Delete a character\n",
    "- Replace a character\n",
    "\n",
    "```code\n",
    "Example 1:\n",
    "\n",
    "Input: word1 = \"horse\", word2 = \"ros\"\n",
    "Output: 3\n",
    "Explanation: \n",
    "horse -> rorse (replace 'h' with 'r')\n",
    "rorse -> rose (remove 'r')\n",
    "rose -> ros (remove 'e')\n",
    "Example 2:\n",
    "\n",
    "Input: word1 = \"intention\", word2 = \"execution\"\n",
    "Output: 5\n",
    "Explanation: \n",
    "intention -> inention (remove 't')\n",
    "inention -> enention (replace 'i' with 'e')\n",
    "enention -> exention (replace 'n' with 'x')\n",
    "exention -> exection (replace 'n' with 'c')\n",
    "exection -> execution (insert 'u')\n",
    "```\n",
    "\n",
    "## Constraints\n",
    "\n",
    "- `0 <= word1.length, word2.length <= 500`\n",
    "- `word1` and `word2` consist of lowercase English letters.\n",
    "\n",
    "## Solution"
   ]
  },
  {
   "cell_type": "code",
   "execution_count": null,
   "metadata": {},
   "outputs": [],
   "source": [
    "class Solution:\n",
    "    def minDistance(self, word1: str, word2: str) -> int:\n",
    "\n",
    "        n, m = len(word1), len(word2)\n",
    "        dp = [[0]*(m+1) for _ in range(n+1)]\n",
    "        for i in range(m+1): dp[0][i] = i\n",
    "        for i in range(n+1): dp[i][0] = i\n",
    "\n",
    "        for i in range(1, n+1):\n",
    "            for j in range(1, m+1):\n",
    "                if word1[i-1]==word2[j-1]: \n",
    "                    dp[i][j] = dp[i-1][j-1]\n",
    "                    continue\n",
    "                insert = dp[i-1][j]\n",
    "                delete = dp[i][j-1]\n",
    "                replace = dp[i-1][j-1]\n",
    "                dp[i][j] = min(insert, delete, replace)+1\n",
    "        return dp[-1][-1]"
   ]
  }
 ],
 "metadata": {},
 "nbformat": 4,
 "nbformat_minor": 2
}
