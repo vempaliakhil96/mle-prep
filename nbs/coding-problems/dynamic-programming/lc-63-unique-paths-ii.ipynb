{
 "cells": [
  {
   "cell_type": "markdown",
   "metadata": {},
   "source": [
    "# 63. Unique Paths II"
   ]
  },
  {
   "cell_type": "markdown",
   "metadata": {},
   "source": [
    "## Problem\n",
    "\n",
    "[link](https://leetcode.com/problems/unique-paths-ii/)\n",
    "\n",
    "You are given an `m x n` integer array `grid`. There is a robot initially located at the **top-left corner** (i.e., `grid[0][0]`). The robot tries to move to the **bottom-right corner** (i.e., `grid[m - 1][n - 1]`). The robot can only move either down or right at any point in time.\n",
    "\n",
    "An obstacle and space are marked as `1` or `0` respectively in `grid`. A path that the robot takes cannot include **any** square that is an obstacle.\n",
    "\n",
    "Return the number of possible unique paths that the robot can take to reach the bottom-right corner.\n",
    "\n",
    "The testcases are generated so that the answer will be less than or equal to `2 * 10^9`.\n",
    "\n",
    "![example 1](../../assets/lc-63-ex-1.jpeg)\n",
    "```code\n",
    "Example 1:\n",
    "Input: obstacleGrid = [[0,0,0],[0,1,0],[0,0,0]]\n",
    "Output: 2\n",
    "Explanation: There is one obstacle in the middle of the 3x3 grid above.\n",
    "There are two ways to reach the bottom-right corner:\n",
    "1. Right -> Right -> Down -> Down\n",
    "2. Down -> Down -> Right -> Right\n",
    "```\n",
    "![example 2](../../assets/lc-63-ex-2.jpeg)\n",
    "```code\n",
    "Input: obstacleGrid = [[0,1],[0,0]]\n",
    "Output: 1\n",
    "```\n",
    "\n",
    "## Constraints\n",
    "\n",
    "- `m == obstacleGrid.length`\n",
    "- `n == obstacleGrid[i].length`\n",
    "- `1 <= m, n <= 100`\n",
    "- `obstacleGrid[i][j] is 0 or 1.`\n",
    "\n",
    "## Solution"
   ]
  },
  {
   "cell_type": "code",
   "execution_count": null,
   "metadata": {},
   "outputs": [],
   "source": [
    "from typing import List\n",
    "\n",
    "class Solution:\n",
    "    def uniquePathsWithObstacles(self, obstacleGrid: List[List[int]]) -> int:\n",
    "\n",
    "        if obstacleGrid[0][0] == 1: return 0\n",
    "        \n",
    "        R, C = len(obstacleGrid), len(obstacleGrid[0])\n",
    "\n",
    "        dp = [[0 for _ in range(C+1)] for __ in range(R+1)]\n",
    "        dp[1][1] = 1\n",
    "        for c in range(1, C+1):\n",
    "            for r in range(1, R+1):\n",
    "                if r==1 and c==1: continue\n",
    "                dp[r][c] = dp[r-1][c] + dp[r][c-1] if obstacleGrid[r-1][c-1]!=1 else 0\n",
    "\n",
    "        return dp[-1][-1]"
   ]
  }
 ],
 "metadata": {},
 "nbformat": 4,
 "nbformat_minor": 2
}
