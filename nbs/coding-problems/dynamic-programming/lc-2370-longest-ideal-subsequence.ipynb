{
 "cells": [
  {
   "cell_type": "markdown",
   "metadata": {},
   "source": [
    "# 2370. Longest Ideal Subsequence"
   ]
  },
  {
   "cell_type": "markdown",
   "metadata": {},
   "source": [
    "## Problem\n",
    "\n",
    "[Link](https://leetcode.com/problems/longest-ideal-subsequence/)\n",
    "\n",
    "You are given a string `s` consisting of lowercase letters and an integer `k`. We call a string `t` ideal if the following conditions are satisfied:\n",
    "\n",
    "- `t` is a subsequence of the string `s`.\n",
    "- The absolute difference in the alphabet order of every two adjacent letters in `t` is less than or equal to `k`.\n",
    "\n",
    "Return the length of the longest ideal string.\n",
    "\n",
    "A **subsequence** is a string that can be derived from another string by deleting some or no characters without changing the order of the remaining characters.\n",
    "\n",
    "Note that the alphabet order is not cyclic. For example, the absolute difference in the alphabet order of `'a'` and `'z'` is `25`, not `1`.\n",
    "\n",
    "```code\n",
    "Example 1:\n",
    "\n",
    "Input: s = \"acfgbd\", k = 2\n",
    "Output: 4\n",
    "Explanation: The longest ideal string is \"acbd\". The length of this string is 4, so 4 is returned.\n",
    "Note that \"acfgbd\" is not ideal because 'c' and 'f' have a difference of 3 in alphabet order.\n",
    "Example 2:\n",
    "\n",
    "Input: s = \"abcd\", k = 3\n",
    "Output: 4\n",
    "Explanation: The longest ideal string is \"abcd\". The length of this string is 4, so 4 is returned.\n",
    "\n",
    "```\n",
    "\n",
    "## Constraints\n",
    "\n",
    "- `1 <= s.length <= 10^5`\n",
    "- `0 <= k <= 25`\n",
    "- `s` consists of lowercase English letters.\n",
    "\n",
    "## Solution"
   ]
  },
  {
   "cell_type": "code",
   "execution_count": null,
   "metadata": {},
   "outputs": [],
   "source": [
    "class Solution:\n",
    "    def longestIdealString(self, s: str, k: int) -> int:\n",
    "        offset = ord('a'), \n",
    "        dp = [0]*abs(ord('z')-ord('a')+1) # dp of all subsequence ending with char\n",
    "\n",
    "        for c in s:\n",
    "            i = ord(c)-offset\n",
    "            l, h = max(i-k, 0), min(i+k+1, len(dp)) # left and right bound\n",
    "            dp[i] = max(dp[l:h])+1 # max of all neighbhouring chars and the sequence they end at\n",
    "        \n",
    "        return max(dp)"
   ]
  }
 ],
 "metadata": {
  "kernelspec": {
   "display_name": "python3",
   "language": "python",
   "name": "python3"
  }
 },
 "nbformat": 4,
 "nbformat_minor": 2
}
