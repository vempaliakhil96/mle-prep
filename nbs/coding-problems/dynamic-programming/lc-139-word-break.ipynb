{
 "cells": [
  {
   "cell_type": "markdown",
   "metadata": {},
   "source": [
    "# 139. Word Break"
   ]
  },
  {
   "cell_type": "markdown",
   "metadata": {},
   "source": [
    "## Problem\n",
    "\n",
    "[link](https://leetcode.com/problems/word-break)\n",
    "\n",
    "Given a string `s` and a dictionary of strings `wordDict`, return `true` if `s` can be segmented into a space-separated sequence of one or more dictionary words.\n",
    "\n",
    "**Note** that the same word in the dictionary may be reused multiple times in the segmentation.\n",
    "\n",
    "```code\n",
    "Example 1:\n",
    "\n",
    "Input: s = \"leetcode\", wordDict = [\"leet\",\"code\"]\n",
    "Output: true\n",
    "Explanation: Return true because \"leetcode\" can be segmented as \"leet code\".\n",
    "Example 2:\n",
    "\n",
    "Input: s = \"applepenapple\", wordDict = [\"apple\",\"pen\"]\n",
    "Output: true\n",
    "Explanation: Return true because \"applepenapple\" can be segmented as \"apple pen apple\".\n",
    "Note that you are allowed to reuse a dictionary word.\n",
    "Example 3:\n",
    "\n",
    "Input: s = \"catsandog\", wordDict = [\"cats\",\"dog\",\"sand\",\"and\",\"cat\"]\n",
    "Output: false\n",
    "```\n",
    "\n",
    "## Constraints\n",
    "\n",
    "- `1 <= s.length <= 300`\n",
    "- `1 <= wordDict.length <= 1000`\n",
    "- `1 <= wordDict[i].length <= 20`\n",
    "- `s` and `wordDict[i]` consist of only lowercase English letters.\n",
    "- All the strings of `wordDict` are **unique**.\n",
    "\n",
    "## Solution\n",
    "\n",
    "Time complexity: let `n` be the length of the string `s` and `m` be the number of words in `wordDict`. There are `n` `dp` states, and each state is loops `n^2` times. **Time Complexity** is $O(n^3)$"
   ]
  },
  {
   "cell_type": "code",
   "execution_count": null,
   "metadata": {},
   "outputs": [],
   "source": [
    "from typing import List\n",
    "\n",
    "class Solution:\n",
    "    def wordBreak(self, s: str, wordDict: List[str]) -> bool:\n",
    "\n",
    "        wordDict, n = set(wordDict), len(s)\n",
    "\n",
    "        dp = [False] * (n+1); dp[n] = True # dp stores if the string starting from i can be segmented into words from dict\n",
    "\n",
    "        for i in range(n-1, -1, -1):\n",
    "            for j in range(i+1, n+1):\n",
    "                if dp[j] and s[i:j] in wordDict: # at every ith position check if any jth pointion after it is segmentable, \n",
    "                    dp[i] = True; break # then check if word b/w i:j is segmentable\n",
    "\n",
    "        return dp[0]\n"
   ]
  }
 ],
 "metadata": {
  "kernelspec": {
   "display_name": "python3",
   "language": "python",
   "name": "python3"
  }
 },
 "nbformat": 4,
 "nbformat_minor": 4
}
