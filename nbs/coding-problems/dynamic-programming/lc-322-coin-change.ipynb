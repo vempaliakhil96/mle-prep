{
 "cells": [
  {
   "cell_type": "markdown",
   "metadata": {},
   "source": [
    "# 322. Coin Change"
   ]
  },
  {
   "cell_type": "markdown",
   "metadata": {},
   "source": [
    "## Problem\n",
    "\n",
    "[Link](https://leetcode.com/problems/coin-change)\n",
    "\n",
    "You are given an integer array `coins` representing coins of different denominations and an integer `amount` representing a total amount of money.\n",
    "\n",
    "Return the fewest number of coins that you need to make up that `amount`. If that `amount` of money cannot be made up by any combination of the `coins`, return `-1`.\n",
    "\n",
    "You may assume that you have an infinite number of each kind of coin.\n",
    "\n",
    "```code\n",
    "Example 1:\n",
    "\n",
    "Input: coins = [1,2,5], amount = 11\n",
    "Output: 3\n",
    "Explanation: 11 = 5 + 5 + 1\n",
    "Example 2:\n",
    "\n",
    "Input: coins = [2], amount = 3\n",
    "Output: -1\n",
    "Example 3:\n",
    "\n",
    "Input: coins = [1], amount = 0\n",
    "Output: 0\n",
    "```\n",
    "\n",
    "## Constraints\n",
    "\n",
    "- `1 <= coins.length <= 12`\n",
    "- `1 <= coins[i] <= 231 - 1`\n",
    "- `0 <= amount <= 104`\n",
    "\n",
    "## Solution"
   ]
  },
  {
   "cell_type": "code",
   "execution_count": null,
   "metadata": {},
   "outputs": [],
   "source": [
    "from typing import List\n",
    "\n",
    "class Solution:\n",
    "    def coinChange(self, coins: List[int], amount: int) -> int:\n",
    "        dp = [float('inf')] * (amount+1) # dp[i] = min number of coins to make up amount i\n",
    "        dp[0] = 0\n",
    "        for coin in coins:\n",
    "            for i in range(coin, amount+1):\n",
    "                # min number of coins to make up amount i \n",
    "                # is min of dp[i] and dp[i-coin]+1\n",
    "                dp[i] = min(dp[i], dp[i-coin]+1) \n",
    "        return dp[amount] if dp[amount] != float('inf') else -1"
   ]
  }
 ],
 "metadata": {},
 "nbformat": 4,
 "nbformat_minor": 2
}
