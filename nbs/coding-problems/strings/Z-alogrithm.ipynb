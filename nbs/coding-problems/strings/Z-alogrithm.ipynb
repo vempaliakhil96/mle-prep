{
 "cells": [
  {
   "cell_type": "markdown",
   "metadata": {},
   "source": [
    "# Z-Function"
   ]
  },
  {
   "cell_type": "code",
   "execution_count": null,
   "metadata": {},
   "outputs": [],
   "source": [
    "s = \"ABCABCABC\"\n",
    "n = len(s)\n",
    "z = [n]\n",
    "l = r = 0\n",
    "for i in range(1, n):\n",
    "    if i>r: # i is outside the current z-box\n",
    "        l = r = i\n",
    "        while r<n and s[r]==s[r-l]: r+=1\n",
    "        r-=1\n",
    "        z.append(r-l+1)\n",
    "    else:\n",
    "        k = i-l\n",
    "        if z[k]<r-i+1: # z[k] is less than the remaining length\n",
    "            z.append(z[k])\n",
    "        if z[k]>=r-i+1: # z[k] is greater than the remaining length\n",
    "            l = r = i\n",
    "            while r<n and s[r-l]==s[r]: r+=1\n",
    "            r-=1\n",
    "            z.append(r-l+1)\n"
   ]
  }
 ],
 "metadata": {
  "kernelspec": {
   "display_name": "python3",
   "language": "python",
   "name": "python3"
  }
 },
 "nbformat": 4,
 "nbformat_minor": 2
}
