{
 "cells": [
  {
   "cell_type": "markdown",
   "metadata": {},
   "source": [
    "# Z-Function"
   ]
  },
  {
   "cell_type": "markdown",
   "metadata": {},
   "source": [
    "Z array stores the length of the longest substring starting at `i` which is also a prefix of the string."
   ]
  },
  {
   "cell_type": "code",
   "execution_count": null,
   "metadata": {},
   "outputs": [
    {
     "name": "stdout",
     "output_type": "stream",
     "text": [
      "l=1 r=1 z=[15, 1]\n",
      "l=2 r=1 z=[15, 1, 0]\n",
      "l=3 r=2 z=[15, 1, 0, 0]\n",
      "l=4 r=5 z=[15, 1, 0, 0, 2]\n",
      "l=5 r=14 z=[15, 1, 0, 0, 2, 10]\n",
      "l=5 r=14 z=[15, 1, 0, 0, 2, 10, 1]\n",
      "l=5 r=14 z=[15, 1, 0, 0, 2, 10, 1, 0]\n",
      "l=5 r=14 z=[15, 1, 0, 0, 2, 10, 1, 0, 0]\n",
      "l=5 r=14 z=[15, 1, 0, 0, 2, 10, 1, 0, 0, 2]\n",
      "l=10 r=14 z=[15, 1, 0, 0, 2, 10, 1, 0, 0, 2, 5]\n",
      "l=10 r=14 z=[15, 1, 0, 0, 2, 10, 1, 0, 0, 2, 5, 1]\n",
      "l=10 r=14 z=[15, 1, 0, 0, 2, 10, 1, 0, 0, 2, 5, 1, 0]\n",
      "l=10 r=14 z=[15, 1, 0, 0, 2, 10, 1, 0, 0, 2, 5, 1, 0, 0]\n",
      "l=14 r=14 z=[15, 1, 0, 0, 2, 10, 1, 0, 0, 2, 5, 1, 0, 0, 1]\n"
     ]
    }
   ],
   "source": [
    "s = \"AABBAAABBAAABBA\"\n",
    "n = len(s)\n",
    "z = [n]\n",
    "l = r = 0\n",
    "for i in range(1, n):\n",
    "    if i>r: # i is outside the current z-box\n",
    "        l = r = i\n",
    "        while r<n and s[r]==s[r-l]: r+=1\n",
    "        r-=1\n",
    "        z.append(r-l+1)\n",
    "    else:\n",
    "        k = i-l\n",
    "        if z[k]<r-i+1: # z[k] is less than the remaining length\n",
    "            z.append(z[k])\n",
    "        if z[k]>=r-i+1: # z[k] is greater than the remaining length\n",
    "            l = r = i\n",
    "            while r<n and s[r-l]==s[r]: r+=1\n",
    "            r-=1\n",
    "            z.append(r-l+1)\n",
    "    print(f\"{l=} {r=} {z=}\")"
   ]
  },
  {
   "cell_type": "code",
   "execution_count": null,
   "metadata": {},
   "outputs": [],
   "source": []
  }
 ],
 "metadata": {
  "kernelspec": {
   "display_name": "python3",
   "language": "python",
   "name": "python3"
  }
 },
 "nbformat": 4,
 "nbformat_minor": 2
}
