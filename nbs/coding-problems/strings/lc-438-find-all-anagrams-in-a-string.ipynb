{
 "cells": [
  {
   "cell_type": "markdown",
   "metadata": {},
   "source": [
    "# 438. Find All Anagrams in a String"
   ]
  },
  {
   "cell_type": "markdown",
   "metadata": {},
   "source": [
    "## Problem\n",
    "\n",
    "[link](https://leetcode.com/problems/find-all-anagrams-in-a-string/)\n",
    "\n",
    "Given two strings `s` and `p`, return an array of all the start indices of `p`'s anagrams in `s`. You may return the answer in **any order**.\n",
    "\n",
    "An **Anagram** is a word or phrase formed by rearranging the letters of a different word or phrase, typically using all the original letters exactly once.\n",
    "\n",
    "```code\n",
    "Example 1:\n",
    "\n",
    "Input: s = \"cbaebabacd\", p = \"abc\"\n",
    "Output: [0,6]\n",
    "Explanation:\n",
    "The substring with start index = 0 is \"cba\", which is an anagram of \"abc\".\n",
    "The substring with start index = 6 is \"bac\", which is an anagram of \"abc\".\n",
    "Example 2:\n",
    "\n",
    "Input: s = \"abab\", p = \"ab\"\n",
    "Output: [0,1,2]\n",
    "Explanation:\n",
    "The substring with start index = 0 is \"ab\", which is an anagram of \"ab\".\n",
    "The substring with start index = 1 is \"ba\", which is an anagram of \"ab\".\n",
    "The substring with start index = 2 is \"ab\", which is an anagram of \"ab\".\n",
    "```\n",
    "\n",
    "## Constraints\n",
    "\n",
    "- `1 <= s.length, p.length <= 3 * 10^4`\n",
    "- `s` and `p` consist of lowercase English letters.\n",
    "\n",
    "## Solution\n",
    "\n",
    "- When we meet a character `c = s[r]`, we decrease the `cnt[c]` by one by `cnt[c]--`\n",
    "    - If the `cnt[c] < 0`, it means our window contains char `c` with the number more than in `p`, which is invalid.\n",
    "    - So we need to slide left to make sure `cnt[c] >= 0`."
   ]
  },
  {
   "cell_type": "code",
   "execution_count": null,
   "metadata": {},
   "outputs": [],
   "source": [
    "from collections import Counter\n",
    "from typing import List\n",
    "\n",
    "class Solution:\n",
    "    def findAnagrams(self, s: str, p: str) -> List[int]:\n",
    "\n",
    "        cnt = Counter(p) \n",
    "\n",
    "        res = []\n",
    "        l = 0\n",
    "        for r, c in enumerate(s):\n",
    "            cnt[c] -= 1\n",
    "            while cnt[c] < 0: # if cnt[c] < 0 it means its not part of p, need to reset ptrs\n",
    "                cnt[s[l]] += 1 # slide left ptr till cnt[c]==0\n",
    "                l += 1 \n",
    "            if r-l+1==len(p):\n",
    "                res.append(l)\n",
    "                \n",
    "        return res\n"
   ]
  }
 ],
 "metadata": {},
 "nbformat": 4,
 "nbformat_minor": 2
}
