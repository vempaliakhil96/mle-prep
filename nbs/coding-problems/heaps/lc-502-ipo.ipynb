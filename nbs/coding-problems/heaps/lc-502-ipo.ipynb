{
 "cells": [
  {
   "cell_type": "code",
   "execution_count": null,
   "metadata": {},
   "outputs": [],
   "source": [
    "#| hide\n",
    "\n",
    "from typing import List, Tuple\n",
    "import heapq"
   ]
  },
  {
   "cell_type": "markdown",
   "metadata": {},
   "source": [
    "# 502. IPO"
   ]
  },
  {
   "cell_type": "markdown",
   "metadata": {},
   "source": [
    "## Problem"
   ]
  },
  {
   "cell_type": "markdown",
   "metadata": {},
   "source": [
    "[link](https://leetcode.com/problems/ipo/description/?envType=study-plan-v2&envId=top-interview-150)\n",
    "\n",
    "\n",
    "Suppose LeetCode will start its IPO soon. In order to sell a good price of its shares to Venture Capital, LeetCode would like to work on some projects to increase its capital before the IPO. Since it has limited resources, it can only finish at most k distinct projects before the IPO. Help LeetCode design the best way to maximize its total capital after finishing at most k distinct projects.\n",
    "\n",
    "You are given n projects where the ith project has a pure profit profits[i] and a minimum capital of capital[i] is needed to start it.\n",
    "\n",
    "Initially, you have w capital. When you finish a project, you will obtain its pure profit and the profit will be added to your total capital.\n",
    "\n",
    "Pick a list of at most k distinct projects from given projects to maximize your final capital, and return the final maximized capital.\n",
    "\n",
    "The answer is guaranteed to fit in a 32-bit signed integer."
   ]
  },
  {
   "cell_type": "markdown",
   "metadata": {},
   "source": [
    "```code\n",
    "Example 1:\n",
    "\n",
    "Input: k = 2, w = 0, profits = [1,2,3], capital = [0,1,1]\n",
    "Output: 4\n",
    "Explanation: Since your initial capital is 0, you can only start the project indexed 0.\n",
    "After finishing it you will obtain profit 1 and your capital becomes 1.\n",
    "With capital 1, you can either start the project indexed 1 or the project indexed 2.\n",
    "Since you can choose at most 2 projects, you need to finish the project indexed 2 to get the maximum capital.\n",
    "Therefore, output the final maximized capital, which is 0 + 1 + 3 = 4.\n",
    "\n",
    "Example 2:\n",
    "\n",
    "Input: k = 3, w = 0, profits = [1,2,3], capital = [0,1,2]\n",
    "Output: 6\n",
    "```"
   ]
  },
  {
   "cell_type": "markdown",
   "metadata": {},
   "source": [
    "## Constraints\n",
    "\n",
    "- `1 <= k <= 105`\n",
    "- `0 <= w <= 109`\n",
    "- `n == profits.length`\n",
    "- `n == capital.length`\n",
    "- `1 <= n <= 105`\n",
    "- `0 <= profits[i] <= 104`\n",
    "- `0 <= capital[i] <= 109`"
   ]
  },
  {
   "cell_type": "markdown",
   "metadata": {},
   "source": [
    "## Solution"
   ]
  },
  {
   "cell_type": "code",
   "execution_count": null,
   "metadata": {},
   "outputs": [],
   "source": [
    "#| echo: true\n",
    "\n",
    "def findMaximizedCapital(self, k: int, w: int, profits: List[int], capital: List[int]) -> int:\n",
    "        heap = []\n",
    "        projects = sorted(zip(profits, capital), key=lambda x: x[-1])\n",
    "        i = 0\n",
    "\n",
    "        for _ in range(k):\n",
    "            while i < len(projects) and projects[i][-1] <= w:\n",
    "                heapq.heappush(heap, -projects[i][0])\n",
    "                i += 1\n",
    "            if heap:\n",
    "                w -= heapq.heappop(heap)\n",
    "        return w"
   ]
  }
 ],
 "metadata": {
  "kernelspec": {
   "display_name": "python3",
   "language": "python",
   "name": "python3"
  }
 },
 "nbformat": 4,
 "nbformat_minor": 2
}
