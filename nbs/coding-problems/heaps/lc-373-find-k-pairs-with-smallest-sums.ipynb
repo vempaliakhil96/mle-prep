{
 "cells": [
  {
   "cell_type": "markdown",
   "metadata": {},
   "source": [
    "# 373. Find K Pairs with Smallest Sums"
   ]
  },
  {
   "cell_type": "markdown",
   "metadata": {},
   "source": [
    "## Problem\n",
    "\n",
    "[link](https://leetcode.com/problems/find-k-pairs-with-smallest-sums)\n",
    "\n",
    "You are given two integer arrays `nums1` and `nums2` sorted in **non-decreasing order** and an integer `k`.\n",
    "\n",
    "Define a pair `(u, v)` which consists of one element from the first array and one element from the second array.\n",
    "\n",
    "Return the `k` pairs `(u1, v1), (u2, v2), ..., (uk, vk)` with the smallest sums.\n",
    "\n",
    "```code\n",
    "Example 1:\n",
    "\n",
    "Input: nums1 = [1,7,11], nums2 = [2,4,6], k = 3\n",
    "Output: [[1,2],[1,4],[1,6]]\n",
    "Explanation: The first 3 pairs are returned from the sequence: [1,2],[1,4],[1,6],[7,2],[7,4],[11,2],[7,6],[11,4],[11,6]\n",
    "Example 2:\n",
    "\n",
    "Input: nums1 = [1,1,2], nums2 = [1,2,3], k = 2\n",
    "Output: [[1,1],[1,1]]\n",
    "Explanation: The first 2 pairs are returned from the sequence: [1,1],[1,1],[1,2],[2,1],[1,2],[2,2],[1,3],[1,3],[2,3]\n",
    "```\n",
    "\n",
    "## Constraints\n",
    "\n",
    "- `1 <= nums1.length, nums2.length <= 105`\n",
    "- `-109 <= nums1[i], nums2[i] <= 109`\n",
    "- `nums1` and `nums2` both are sorted in **non-decreasing order**.\n",
    "- `1 <= k <= 104`\n",
    "- `k <= nums1.length * nums2.length`\n",
    "\n",
    "## Solution"
   ]
  },
  {
   "cell_type": "code",
   "execution_count": null,
   "metadata": {},
   "outputs": [],
   "source": [
    "import heapq\n",
    "from typing import List\n",
    "\n",
    "class Solution:\n",
    "    def kSmallestPairs(self, nums1: List[int], nums2: List[int], k: int) -> List[List[int]]:\n",
    "\n",
    "        l1, l2 = len(nums1), len(nums2)\n",
    "        i = 0\n",
    "        ans = []\n",
    "\n",
    "        heap = [(nums1[0] + nums2[0], (0,0))]\n",
    "        visited = set()\n",
    "        visited.add((0,0))\n",
    "\n",
    "        while k and heap:\n",
    "            s, (x, y) = heapq.heappop(heap)\n",
    "            ans.append([nums1[x], nums2[y]])\n",
    "\n",
    "            if x+1<l1 and (x+1,y) not in visited:\n",
    "                heapq.heappush(heap, (nums1[x+1]+nums2[y], (x+1, y)))\n",
    "                visited.add((x+1, y))\n",
    "            if y+1<l2 and (x,y+1) not in visited:\n",
    "                heapq.heappush(heap, (nums1[x]+nums2[y+1], (x,y+1)))\n",
    "                visited.add((x,y+1))\n",
    "            k -= 1\n",
    "        \n",
    "        return ans"
   ]
  }
 ],
 "metadata": {},
 "nbformat": 4,
 "nbformat_minor": 2
}
