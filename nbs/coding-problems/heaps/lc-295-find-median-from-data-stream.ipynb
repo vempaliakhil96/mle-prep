{
 "cells": [
  {
   "cell_type": "markdown",
   "metadata": {},
   "source": [
    "# 295. Find Median from Data Stream"
   ]
  },
  {
   "cell_type": "markdown",
   "metadata": {},
   "source": [
    "## Problem\n",
    "\n",
    "[link](https://leetcode.com/problems/find-median-from-data-stream/)\n",
    "\n",
    "The **median** is the middle value in an ordered integer list. If the size of the list is even, there is no middle value, and the median is the mean of the two middle values.\n",
    "\n",
    "- For example, for `arr = [2,3,4]`, the median is `3`.\n",
    "- For example, for `arr = [2,3]`, the median is `(2 + 3) / 2 = 2.5`.\n",
    "\n",
    "Implement the `MedianFinder` class:\n",
    "\n",
    "- `MedianFinder()` initializes the `MedianFinder` object.\n",
    "- `void addNum(int num)` adds the integer num from the data stream to the data structure.\n",
    "- `double findMedian()` returns the median of all elements so far. Answers within $10^{-5}$ of the actual answer will be accepted.\n",
    "\n",
    "```code\n",
    "Example 1:\n",
    "\n",
    "Input\n",
    "[\"MedianFinder\", \"addNum\", \"addNum\", \"findMedian\", \"addNum\", \"findMedian\"]\n",
    "[[], [1], [2], [], [3], []]\n",
    "Output\n",
    "[null, null, null, 1.5, null, 2.0]\n",
    "\n",
    "Explanation\n",
    "MedianFinder medianFinder = new MedianFinder();\n",
    "medianFinder.addNum(1);    // arr = [1]\n",
    "medianFinder.addNum(2);    // arr = [1, 2]\n",
    "medianFinder.findMedian(); // return 1.5 (i.e., (1 + 2) / 2)\n",
    "medianFinder.addNum(3);    // arr[1, 2, 3]\n",
    "medianFinder.findMedian(); // return 2.0\n",
    "```\n",
    "\n",
    "## Constraints\n",
    "\n",
    "- `-105 <= num <= 105`\n",
    "- There will be at least one element in the data structure before calling `findMedian`.\n",
    "- At most `5 * 104` calls will be made to `addNum` and `findMedian`.\n",
    "\n",
    "## Follow up\n",
    "\n",
    "- If all integer numbers from the stream are in the range `[0, 100]`, how would you optimize your solution?\n",
    "- If 99% of all integer numbers from the stream are in the range `[0, 100]`, how would you optimize your solution?\n",
    "\n",
    "## Solution"
   ]
  },
  {
   "cell_type": "code",
   "execution_count": null,
   "metadata": {},
   "outputs": [],
   "source": [
    "import heapq\n",
    "\n",
    "\n",
    "class MedianFinder:\n",
    "\n",
    "    def __init__(self):\n",
    "        self.lheap = [] # max heap\n",
    "        self.rheap = [] # min heap\n",
    "\n",
    "    def addNum(self, num: int) -> None:\n",
    "        lv = -self.lheap[0] if self.lheap else float('-inf')\n",
    "        rv = self.rheap[0] if self.rheap else float('inf')\n",
    "        if lv<num<rv or num<=lv:\n",
    "            heapq.heappush(self.lheap, -num)\n",
    "        else:\n",
    "            heapq.heappush(self.rheap, num)\n",
    "        while len(self.lheap)-len(self.rheap)>1:\n",
    "            v = -heapq.heappop(self.lheap)\n",
    "            heapq.heappush(self.rheap, v)\n",
    "        while len(self.rheap)-len(self.lheap)>1:\n",
    "            v = heapq.heappop(self.rheap)\n",
    "            heapq.heappush(self.lheap, -v)\n",
    "\n",
    "    def findMedian(self) -> float:\n",
    "        if len(self.lheap)==len(self.rheap):\n",
    "            lv = -self.lheap[0]\n",
    "            rv = self.rheap[0]\n",
    "            return (lv+rv)/2\n",
    "        return -self.lheap[0] if len(self.lheap)>len(self.rheap) else self.rheap[0]"
   ]
  }
 ],
 "metadata": {
  "kernelspec": {
   "display_name": "python3",
   "language": "python",
   "name": "python3"
  }
 },
 "nbformat": 4,
 "nbformat_minor": 2
}
