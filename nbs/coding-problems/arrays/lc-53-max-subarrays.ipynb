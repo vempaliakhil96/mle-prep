{
 "cells": [
  {
   "cell_type": "code",
   "execution_count": null,
   "metadata": {},
   "outputs": [],
   "source": [
    "#| hide\n",
    "from typing import List"
   ]
  },
  {
   "cell_type": "markdown",
   "metadata": {},
   "source": [
    "# 53. Maximum Subarray"
   ]
  },
  {
   "cell_type": "markdown",
   "metadata": {},
   "source": [
    "## Problem\n",
    "\n",
    "[link](https://leetcode.com/problems/maximum-subarray/description/?envType=study-plan-v2&envId=top-interview-150)\n",
    "\n",
    "Given an integer array `nums`, find the subarray with the largest sum, and return its *sum*. A subarray is a **contiguous non-empty sequence** of elements within an array.\n",
    "\n",
    "```code\n",
    "Example 1:\n",
    "\n",
    "Input: nums = [-2,1,-3,4,-1,2,1,-5,4]\n",
    "Output: 6\n",
    "Explanation: The subarray [4,-1,2,1] has the largest sum 6.\n",
    "Example 2:\n",
    "\n",
    "Input: nums = [1]\n",
    "Output: 1\n",
    "Explanation: The subarray [1] has the largest sum 1.\n",
    "Example 3:\n",
    "\n",
    "Input: nums = [5,4,-1,7,8]\n",
    "Output: 23\n",
    "Explanation: The subarray [5,4,-1,7,8] has the largest sum 23.\n",
    "\n",
    "```\n",
    "\n",
    "## Constraints\n",
    "\n",
    "- `1 <= nums.length <= 105`\n",
    "- `-104 <= nums[i] <= 104`\n",
    "\n",
    "Follow up: If you have figured out the `O(n)` solution, try coding another solution using the divide and conquer approach, which is more subtle.\n",
    "\n",
    "## Solution\n",
    "\n",
    "Approach is called Kadane's algorithm. Maintain a variable `max_sum` and `current_sum`. Iterate over the array and keep adding the elements to `current_sum`. If `current_sum` is less than 0, then reset it to 0. If `current_sum` is greater than `max_sum`, then update `max_sum`. Return `max_sum` at the end."
   ]
  },
  {
   "cell_type": "code",
   "execution_count": null,
   "metadata": {},
   "outputs": [],
   "source": [
    "class Solution:\n",
    "    def maxSubArray(self, nums: List[int]) -> int:\n",
    "        current_sum, max_sum = float('-inf'), float('-inf')\n",
    "        for n in nums:\n",
    "            if current_sum < 0:\n",
    "                current_sum = n\n",
    "            else:\n",
    "                current_sum += n\n",
    "            max_sum = max(current_sum, max_sum)\n",
    "\n",
    "        return max_sum\n"
   ]
  }
 ],
 "metadata": {
  "kernelspec": {
   "display_name": "python3",
   "language": "python",
   "name": "python3"
  }
 },
 "nbformat": 4,
 "nbformat_minor": 2
}
