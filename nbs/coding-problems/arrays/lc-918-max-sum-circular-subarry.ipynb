{
 "cells": [
  {
   "cell_type": "markdown",
   "metadata": {},
   "source": [
    "# 918. Maximum Sum Circular Subarray"
   ]
  },
  {
   "cell_type": "markdown",
   "metadata": {},
   "source": [
    "## Problem\n",
    "[link](https://leetcode.com/problems/maximum-sum-circular-subarray/)\n",
    "\n",
    "\n",
    "Given a **circular integer** array `nums` of length `n`, return the maximum possible sum of a non-empty **subarray** of `nums`.\n",
    "\n",
    "A **circular array** means the end of the array connects to the beginning of the array. Formally, the next element of `nums[i]` is `nums[(i + 1) % n]` and the previous element of `nums[i]` is `nums[(i - 1 + n) % n]`.\n",
    "\n",
    "A subarray may only include each element of the fixed buffer nums at most once. Formally, for a subarray `nums[i], nums[i + 1], ..., nums[j]`, there does not exist `i <= k1, k2 <= j` with `k1 % n == k2 % n`.\n",
    "\n",
    "```code\n",
    "Example 1:\n",
    "\n",
    "Input: nums = [1,-2,3,-2]\n",
    "Output: 3\n",
    "Explanation: Subarray [3] has maximum sum 3.\n",
    "Example 2:\n",
    "\n",
    "Input: nums = [5,-3,5]\n",
    "Output: 10\n",
    "Explanation: Subarray [5,5] has maximum sum 5 + 5 = 10.\n",
    "Example 3:\n",
    "\n",
    "Input: nums = [-3,-2,-3]\n",
    "Output: -2\n",
    "Explanation: Subarray [-2] has maximum sum -2.\n",
    "```\n",
    "\n",
    "## Constraints\n",
    "\n",
    "- `n == nums.length`\n",
    "- `1 <= n <= 3 * 104`\n",
    "- `-3 * 104 <= nums[i] <= 3 * 104`\n",
    "\n",
    "## Solution\n",
    "\n",
    "![image](../../../assets/lc-918.png)\n",
    "\n",
    "So the max subarray circular sum equals to\n",
    "`max(the max subarray sum, the total sum - the min subarray sum)`"
   ]
  },
  {
   "cell_type": "code",
   "execution_count": null,
   "metadata": {},
   "outputs": [],
   "source": [
    "from typing import List\n",
    "\n",
    "\n",
    "class Solution:\n",
    "    def maxSubarraySumCircular(self, nums: List[int]) -> int:\n",
    "        \n",
    "        total, cmax, maxsum, cmin, minsum = 0, 0, nums[0], 0, nums[0]\n",
    "\n",
    "        for n in nums:\n",
    "            cmax = max(cmax + n, n)\n",
    "            maxsum = max(maxsum, cmax)\n",
    "            cmin = min(cmin + n, n)\n",
    "            minsum = min(minsum, cmin)\n",
    "            total += n\n",
    "        \n",
    "        return max(maxsum, total-minsum) if maxsum > 0 else maxsum"
   ]
  }
 ],
 "metadata": {},
 "nbformat": 4,
 "nbformat_minor": 2
}
