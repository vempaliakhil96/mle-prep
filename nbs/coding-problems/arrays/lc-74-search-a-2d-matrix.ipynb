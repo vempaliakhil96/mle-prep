{
 "cells": [
  {
   "cell_type": "markdown",
   "metadata": {},
   "source": [
    "# 74. Search a 2D Matrix"
   ]
  },
  {
   "cell_type": "markdown",
   "metadata": {},
   "source": [
    "## Problem\n",
    "\n",
    "[link](https://leetcode.com/problems/search-a-2d-matrix/)\n",
    "\n",
    "You are given an `m x n` integer matrix `matrix` with the following two properties:\n",
    "\n",
    "- Each row is sorted in non-decreasing order.\n",
    "- The first integer of each row is greater than the last integer of the previous row.\n",
    "\n",
    "Given an integer `target`, return `true` if `target` is in `matrix` or `false` otherwise.\n",
    "\n",
    "You must write a solution in `O(log(m * n))` time complexity.\n",
    "\n",
    "**Example 1:**\n",
    "\n",
    "![](../../assets/lc-74-ex-1.jpeg)\n",
    "```code\n",
    "Input: matrix = [[1,3,5,7],[10,11,16,20],[23,30,34,60]], target = 3\n",
    "Output: true\n",
    "```\n",
    "\n",
    "**Example 2:**\n",
    "\n",
    "![](../../assets/lc-74-ex-2.jpeg)\n",
    "```code\n",
    "Input: matrix = [[1,3,5,7],[10,11,16,20],[23,30,34,60]], target = 13\n",
    "Output: false\n",
    "```\n",
    "\n",
    "## Constraints:\n",
    "\n",
    "- `m == matrix.length`\n",
    "- `n == matrix[i].length`\n",
    "- `1 <= m, n <= 100`\n",
    "- `-10^4 <= matrix[i][j], target <= 10^4`\n",
    "\n",
    "\n",
    "## Solution\n",
    "\n",
    "Imagine the 2-D matric as a flattened array, flattened row by row. Then each element `i` in this array will be `matrix[i//cols][i%cols]`. Then we can use binary search to find the target in this array."
   ]
  },
  {
   "cell_type": "code",
   "execution_count": null,
   "metadata": {},
   "outputs": [],
   "source": [
    "from typing import List\n",
    "\n",
    "class Solution:\n",
    "    def searchMatrix(self, matrix: List[List[int]], target: int) -> bool:\n",
    "\n",
    "        if not matrix or not matrix[0]: return False\n",
    "        R, C = len(matrix), len(matrix[0])\n",
    "        lo, hi = 0, R*C-1\n",
    "        while lo<hi:\n",
    "            mid = (lo+hi)//2\n",
    "            mv = matrix[mid//C][mid%C]\n",
    "            if mv==target: return True\n",
    "            elif mv<target: lo = mid+1\n",
    "            else: hi = mid-1\n",
    "        return matrix[lo//C][lo%C]==target\n",
    "        "
   ]
  }
 ],
 "metadata": {},
 "nbformat": 4,
 "nbformat_minor": 2
}
