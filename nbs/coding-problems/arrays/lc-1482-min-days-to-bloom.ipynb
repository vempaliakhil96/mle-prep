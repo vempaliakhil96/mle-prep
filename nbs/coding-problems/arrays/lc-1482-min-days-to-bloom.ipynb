{
 "cells": [
  {
   "cell_type": "markdown",
   "metadata": {},
   "source": [
    "# 1482. Minimum Number of Days to Make `m` Bouquets"
   ]
  },
  {
   "cell_type": "markdown",
   "metadata": {},
   "source": [
    "## Problem\n",
    "\n",
    "You are given an integer array `bloomDay`, an integer `m` and an integer `k`.\n",
    "\n",
    "You want to make `m` bouquets. To make a bouquet, you need to use `k` adjacent flowers from the garden.\n",
    "\n",
    "The garden consists of `n` flowers, the `ith` flower will bloom in the `bloomDay[i]` and then can be used in exactly one bouquet.\n",
    "\n",
    "Return the minimum number of days you need to wait to be able to make m bouquets from the garden. If it is impossible to make `m` bouquets return -1.\n",
    "\n",
    "```code\n",
    "Example 1:\n",
    "\n",
    "Input: bloomDay = [1,10,3,10,2], m = 3, k = 1\n",
    "Output: 3\n",
    "Explanation: Let us see what happened in the first three days. x means flower bloomed and _ means flower did not bloom in the garden.\n",
    "We need 3 bouquets each should contain 1 flower.\n",
    "After day 1: [x, _, _, _, _]   // we can only make one bouquet.\n",
    "After day 2: [x, _, _, _, x]   // we can only make two bouquets.\n",
    "After day 3: [x, _, x, _, x]   // we can make 3 bouquets. The answer is 3.\n",
    "Example 2:\n",
    "\n",
    "Input: bloomDay = [1,10,3,10,2], m = 3, k = 2\n",
    "Output: -1\n",
    "Explanation: We need 3 bouquets each has 2 flowers, that means we need 6 flowers. We only have 5 flowers so it is impossible to get the needed bouquets and we return -1.\n",
    "Example 3:\n",
    "\n",
    "Input: bloomDay = [7,7,7,7,12,7,7], m = 2, k = 3\n",
    "Output: 12\n",
    "Explanation: We need 2 bouquets each should have 3 flowers.\n",
    "Here is the garden after the 7 and 12 days:\n",
    "After day 7: [x, x, x, x, _, x, x]\n",
    "We can make one bouquet of the first three flowers that bloomed. We cannot make another bouquet from the last three flowers that bloomed because they are not adjacent.\n",
    "After day 12: [x, x, x, x, x, x, x]\n",
    "It is obvious that we can make two bouquets in different ways.\n",
    "```\n",
    "\n",
    "## Constraints\n",
    "\n",
    "- `bloomDay.length == n`\n",
    "- `1 <= n <= 10^5`\n",
    "- `1 <= bloomDay[i] <= 10^9`\n",
    "- `1 <= m <= 10^6`\n",
    "- `1 <= k <= n`\n",
    "\n",
    "## Solution"
   ]
  },
  {
   "cell_type": "code",
   "execution_count": null,
   "metadata": {},
   "outputs": [],
   "source": [
    "from typing import List\n",
    "\n",
    "class Solution:\n",
    "    def minDays(self, bloomDay: List[int], m: int, k: int) -> int:\n",
    "        def check(days):\n",
    "            flowers = bouquets = 0\n",
    "            for bloom in bloomDay:\n",
    "                if bloom > days:\n",
    "                    flowers = 0\n",
    "                else:\n",
    "                    bouquets += (flowers+1)//k # if flowers==k, then flowers+1//k=1\n",
    "                    flowers = (flowers+1)%k # if flowers==k, then flowers+1%k=0\n",
    "            return bouquets>=m\n",
    "        \n",
    "        l, r = 0, max(bloomDay)+1\n",
    "        while l<r:\n",
    "            days = (l+r)//2\n",
    "            if check(days): r = days\n",
    "            else: l = days+1\n",
    "        return l if check(l) else -1\n"
   ]
  }
 ],
 "metadata": {
  "kernelspec": {
   "display_name": "python3",
   "language": "python",
   "name": "python3"
  }
 },
 "nbformat": 4,
 "nbformat_minor": 2
}
