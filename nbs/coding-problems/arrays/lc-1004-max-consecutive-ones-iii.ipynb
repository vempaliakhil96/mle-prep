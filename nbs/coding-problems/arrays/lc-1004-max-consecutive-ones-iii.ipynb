{
 "cells": [
  {
   "cell_type": "markdown",
   "metadata": {},
   "source": [
    "# 1004. Max Consecutive Ones III"
   ]
  },
  {
   "cell_type": "markdown",
   "metadata": {},
   "source": [
    "## Problem\n",
    "\n",
    "[link](https://leetcode.com/problems/max-consecutive-ones-iii/)\n",
    "\n",
    "Given a binary array `nums` and an integer `k`, return the maximum number of consecutive `1`'s in the array if you can flip at most `k` `0`'s.\n",
    "\n",
    "```code\n",
    "Example 1:\n",
    "\n",
    "Input: nums = [1,1,1,0,0,0,1,1,1,1,0], k = 2\n",
    "Output: 6\n",
    "Explanation: [1,1,1,0,0,1,1,1,1,1,1]\n",
    "Bolded numbers were flipped from 0 to 1. The longest subarray is underlined.\n",
    "Example 2:\n",
    "\n",
    "Input: nums = [0,0,1,1,0,0,1,1,1,0,1,1,0,0,0,1,1,1,1], k = 3\n",
    "Output: 10\n",
    "Explanation: [0,0,1,1,1,1,1,1,1,1,1,1,0,0,0,1,1,1,1]\n",
    "Bolded numbers were flipped from 0 to 1. The longest subarray is underlined.\n",
    "```\n",
    "\n",
    "## Constraints\n",
    "\n",
    "- `1 <= nums.length <= 10^5`\n",
    "- `nums[i]` is either `0` or `1`.\n",
    "- `0 <= k <= nums.length`\n",
    "\n",
    "## Solution\n",
    "\n",
    "- One thing's for sure, we will only flip a zero if it extends an existing window of 1s. Otherwise, there's no point in doing it, right? Think Sliding Window!\n",
    "- Since we know this problem can be solved using the sliding window construct, we might as well focus in that direction for hints. Basically, in a given window, we can never have > K zeros, right?\n",
    "- We don't have a fixed size window in this case. The window size can grow and shrink depending upon the number of zeros we have (we don't actually have to flip the zeros here!)."
   ]
  },
  {
   "cell_type": "code",
   "execution_count": null,
   "metadata": {},
   "outputs": [],
   "source": [
    "from typing import List\n",
    "\n",
    "class Solution:\n",
    "    def longestOnes(self, nums: List[int], k: int) -> int:\n",
    "\n",
    "        n = len(nums)\n",
    "        mx, zeros, i, j = 0, 0, 0, 0\n",
    "        while j<n:\n",
    "            if nums[j]==0: zeros+=1\n",
    "            while zeros>k:\n",
    "                if nums[i]==0: zeros-=1\n",
    "                i += 1\n",
    "            mx = max(mx, j-i+1)\n",
    "            j+=1\n",
    "        \n",
    "        return mx"
   ]
  }
 ],
 "metadata": {},
 "nbformat": 4,
 "nbformat_minor": 2
}
