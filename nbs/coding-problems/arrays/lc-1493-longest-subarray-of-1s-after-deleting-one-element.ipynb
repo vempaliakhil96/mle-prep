{
 "cells": [
  {
   "cell_type": "markdown",
   "metadata": {},
   "source": [
    "# 1493. Longest Subarray of 1's After Deleting One Element"
   ]
  },
  {
   "cell_type": "markdown",
   "metadata": {},
   "source": [
    "## Problem\n",
    "\n",
    "[link](https://leetcode.com/problems/longest-subarray-of-1s-after-deleting-one-element/)\n",
    "\n",
    "Given a binary array `nums`, you should delete one element from it.\n",
    "\n",
    "Return the size of the longest non-empty subarray containing only `1`'s in the resulting array. Return `0` if there is no such subarray.\n",
    "\n",
    "```code\n",
    "Example 1:\n",
    "\n",
    "Input: nums = [1,1,0,1]\n",
    "Output: 3\n",
    "Explanation: After deleting the number in position 2, [1,1,1] contains 3 numbers with value of 1's.\n",
    "Example 2:\n",
    "\n",
    "Input: nums = [0,1,1,1,0,1,1,0,1]\n",
    "Output: 5\n",
    "Explanation: After deleting the number in position 4, [0,1,1,1,1,1,0,1] longest subarray with value of 1's is [1,1,1,1,1].\n",
    "Example 3:\n",
    "\n",
    "Input: nums = [1,1,1]\n",
    "Output: 2\n",
    "Explanation: You must delete one element.\n",
    "```\n",
    "\n",
    "## Constraints:\n",
    "\n",
    "- `1 <= nums.length <= 10^5`\n",
    "- `nums[i] is either 0 or 1`"
   ]
  },
  {
   "cell_type": "code",
   "execution_count": null,
   "metadata": {},
   "outputs": [],
   "source": [
    "from typing import List\n",
    "\n",
    "class Solution:\n",
    "    def longestSubarray(self, nums: List[int]) -> int:\n",
    "        n, nz = len(nums), 0\n",
    "        i = j = 0\n",
    "        sz = 0\n",
    "\n",
    "        while j<n:\n",
    "            nz += not(nums[j])\n",
    "            while i<j and nz>1: \n",
    "                nz -= not(nums[i])\n",
    "                i += 1\n",
    "            sz = max(sz, j-i)\n",
    "            j += 1\n",
    "        \n",
    "        return sz"
   ]
  }
 ],
 "metadata": {},
 "nbformat": 4,
 "nbformat_minor": 2
}
