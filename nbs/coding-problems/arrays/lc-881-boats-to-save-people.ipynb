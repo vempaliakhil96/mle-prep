{
 "cells": [
  {
   "cell_type": "markdown",
   "metadata": {},
   "source": [
    "# 881. Boats to Save People"
   ]
  },
  {
   "cell_type": "markdown",
   "metadata": {},
   "source": [
    "## Problem\n",
    "\n",
    "[Link](https://leetcode.com/problems/boats-to-save-people)\n",
    "\n",
    "You are given an array `people` where `people[i]` is the weight of the `ith` person, and **an infinite number** of boats where each boat can carry a maximum weight of `limit`. Each boat carries at most two people at the same time, provided the sum of the weight of those people is at most `limit`.\n",
    "\n",
    "Return the *minimum number of boats to carry every given person.*\n",
    "\n",
    "```code\n",
    "Example 1:\n",
    "\n",
    "Input: people = [1,2], limit = 3\n",
    "Output: 1\n",
    "Explanation: 1 boat (1, 2)\n",
    "Example 2:\n",
    "\n",
    "Input: people = [3,2,2,1], limit = 3\n",
    "Output: 3\n",
    "Explanation: 3 boats (1, 2), (2) and (3)\n",
    "Example 3:\n",
    "\n",
    "Input: people = [3,5,3,4], limit = 5\n",
    "Output: 4\n",
    "Explanation: 4 boats (3), (3), (4), (5)\n",
    "```\n",
    "\n",
    "## Constraints\n",
    "\n",
    "- `1 <= people.length <= 5 * 10^4`\n",
    "- `1 <= people[i] <= limit <= 3 * 10^4`"
   ]
  },
  {
   "cell_type": "code",
   "execution_count": null,
   "metadata": {},
   "outputs": [],
   "source": [
    "from typing import List\n",
    "\n",
    "class Solution:\n",
    "    def numRescueBoats(self, people: List[int], limit: int) -> int:\n",
    "\n",
    "        people.sort()\n",
    "        cnt, l, r = 0, 0, len(people)-1\n",
    "\n",
    "        while l<r:\n",
    "            # print(f\"{l=}, {r=}\")\n",
    "            wt = people[l]+people[r]\n",
    "            if wt<=limit:\n",
    "                cnt += 1\n",
    "                l+=1; r-=1\n",
    "            if wt>limit:\n",
    "                cnt+=1\n",
    "                r-=1\n",
    "        return cnt+1 if l==r else cnt"
   ]
  }
 ],
 "metadata": {},
 "nbformat": 4,
 "nbformat_minor": 2
}
