{
 "cells": [
  {
   "cell_type": "markdown",
   "metadata": {},
   "source": [
    "# Types of Binary Search"
   ]
  },
  {
   "cell_type": "code",
   "execution_count": null,
   "metadata": {},
   "outputs": [],
   "source": [
    "#| hide\n",
    "from typing import List\n",
    "from fastcore.all import *"
   ]
  },
  {
   "cell_type": "markdown",
   "metadata": {},
   "source": [
    "## Rules\n",
    "\n",
    "### We carefully adopt the following conditions:\n",
    "\n",
    "1. Do not exit the search loop until **left** boundary is strictly greater than **right**.\n",
    "2. Always move left/right boundaries pass mid (+/- 1)\n",
    "\n",
    "### To get different search results, we pick left/right pointer after loop ends\n",
    "\n",
    "1. Pick **left** if to find first element **greater than target**\n",
    "2. Pick **right** if to find the last element **less than target**"
   ]
  },
  {
   "cell_type": "markdown",
   "metadata": {},
   "source": [
    "## Search for target within a sorted array without duplicates"
   ]
  },
  {
   "cell_type": "code",
   "execution_count": null,
   "metadata": {},
   "outputs": [],
   "source": [
    "def findTarget(nums: List[int], target: int):\n",
    "    \n",
    "    if not len(nums): return -1\n",
    "\n",
    "    left, right = 0, len(nums)-1\n",
    "\n",
    "    while left<=right:\n",
    "\n",
    "        mid = (left+right)//2\n",
    "        val = nums[mid]\n",
    "\n",
    "        if val==target: return mid  # found the target\n",
    "\n",
    "        if val>target: right = mid-1 # target is in the left half\n",
    "\n",
    "        else: left = mid+1 # target is in the right half\n",
    "    \n",
    "    return -1"
   ]
  },
  {
   "cell_type": "code",
   "execution_count": null,
   "metadata": {},
   "outputs": [],
   "source": [
    "test_eq(findTarget([1,2,3,4,5,6,7,8,9], 2), 1)"
   ]
  },
  {
   "cell_type": "markdown",
   "metadata": {},
   "source": [
    "##  Given a sorted integer array and an input target, find the index of first element greater than target"
   ]
  },
  {
   "cell_type": "code",
   "execution_count": null,
   "metadata": {},
   "outputs": [],
   "source": [
    "def findFirstGreater(nums: List[int], target: int):\n",
    "    \n",
    "    if not len(nums): return -1\n",
    "\n",
    "    if target >= nums[-1]: return -1 # no value is > than target \n",
    "\n",
    "    if target < nums[0]: return 0 # since all values are > than target, pick smallest value \n",
    "\n",
    "    left, right = 0, len(nums)-1\n",
    "\n",
    "    while left<=right:\n",
    "\n",
    "        mid = (left+right)//2\n",
    "\n",
    "        cv = nums[mid]\n",
    "\n",
    "        if cv>target: right = mid-1 # this will also ensure in terminating condition, right crosses over left\n",
    "\n",
    "        if cv<=target: left = mid+1\n",
    "    \n",
    "    return left"
   ]
  },
  {
   "cell_type": "code",
   "execution_count": null,
   "metadata": {},
   "outputs": [],
   "source": [
    "test_eq(findFirstGreater([5,6,7,7,8,8,8], 6), 2)"
   ]
  },
  {
   "cell_type": "markdown",
   "metadata": {},
   "source": [
    "## Given a sorted integer array and an input target, find the index of last element smaller than target"
   ]
  },
  {
   "cell_type": "code",
   "execution_count": null,
   "metadata": {},
   "outputs": [],
   "source": [
    "def findLastSmaller(nums: List[int], target: int):\n",
    "    \n",
    "    if not len(nums): return -1\n",
    "\n",
    "    if target<=nums[0]: return -1\n",
    "\n",
    "    if target>nums[-1]: return len(nums)-1\n",
    "\n",
    "    left, right = 0, len(nums)-1\n",
    "\n",
    "    while left<=right:\n",
    "\n",
    "        mid = (left+right)//2\n",
    "\n",
    "        cv = nums[mid]\n",
    "\n",
    "        if cv>=target: right=mid-1\n",
    "        \n",
    "        if cv<target: left=mid+1\n",
    "    \n",
    "    return right"
   ]
  },
  {
   "cell_type": "code",
   "execution_count": null,
   "metadata": {},
   "outputs": [],
   "source": [
    "test_eq(findLastSmaller([1,2,2,3,4,4,4,5,6], 2), 0)"
   ]
  },
  {
   "cell_type": "markdown",
   "metadata": {},
   "source": [
    "## Given a sorted integer array and an input target, find the index of first occurrence of target"
   ]
  },
  {
   "cell_type": "code",
   "execution_count": null,
   "metadata": {},
   "outputs": [],
   "source": [
    "def findFirstTarget(nums: List[int], target: int):\n",
    "\n",
    "    i = findLastSmaller(nums, target) # next elem of the smallest elem > target could be the only candiate\n",
    "\n",
    "    if i==-1: return 0 if nums[0]==target else -1 # if such a number doesnt exist it can be because the target is at 0-th index or it does not exist\n",
    "\n",
    "    i += 1\n",
    "\n",
    "    if i>=len(nums) or nums[i]!=target: return -1\n",
    "\n",
    "    return i\n"
   ]
  },
  {
   "cell_type": "code",
   "execution_count": null,
   "metadata": {},
   "outputs": [],
   "source": [
    "test_eq(findFirstTarget([1,1,1,2,2,3], 1), 0)\n",
    "test_eq(findFirstTarget([1,1,1,2,2,3], 2), 3)"
   ]
  },
  {
   "cell_type": "markdown",
   "metadata": {},
   "source": [
    "## Given a sorted integer array and an input target, find the index of last occurrence of target"
   ]
  },
  {
   "cell_type": "code",
   "execution_count": null,
   "metadata": {},
   "outputs": [],
   "source": [
    "def findLastTarget(nums: List[int], target: int):\n",
    "\n",
    "    i = findFirstGreater(nums, target)\n",
    "    \n",
    "    if i==-1: return len(nums)-1 if nums[-1]==target else -1\n",
    "\n",
    "    i-=1\n",
    "\n",
    "    if i<0 or nums[i]!=target: return -1\n",
    "\n",
    "    return i"
   ]
  },
  {
   "cell_type": "code",
   "execution_count": null,
   "metadata": {},
   "outputs": [],
   "source": [
    "test_eq(findLastTarget([1,1,1,2,2,3], 1), 2)\n",
    "test_eq(findLastTarget([1,1,1,2,2,3], 3), 5)"
   ]
  }
 ],
 "metadata": {
  "kernelspec": {
   "display_name": "python3",
   "language": "python",
   "name": "python3"
  }
 },
 "nbformat": 4,
 "nbformat_minor": 2
}
