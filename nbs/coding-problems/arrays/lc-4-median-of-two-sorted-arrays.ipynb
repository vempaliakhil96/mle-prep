{
 "cells": [
  {
   "cell_type": "markdown",
   "metadata": {},
   "source": [
    "# 4. Median of Two Sorted Arrays\n"
   ]
  },
  {
   "cell_type": "markdown",
   "metadata": {},
   "source": [
    "## Problem\n",
    "\n",
    "[link](https://leetcode.com/problems/median-of-two-sorted-arrays/)\n",
    "\n",
    "Given two sorted arrays `nums1` and `nums2` of size `m` and `n` respectively, return the **median** of the two sorted arrays.\n",
    "\n",
    "The overall run time complexity should be `O(log (m+n))`.\n",
    "\n",
    "```code\n",
    "Example 1:\n",
    "\n",
    "Input: nums1 = [1,3], nums2 = [2]\n",
    "Output: 2.00000\n",
    "Explanation: merged array = [1,2,3] and median is 2.\n",
    "Example 2:\n",
    "\n",
    "Input: nums1 = [1,2], nums2 = [3,4]\n",
    "Output: 2.50000\n",
    "Explanation: merged array = [1,2,3,4] and median is (2 + 3) / 2 = 2.5.\n",
    "```\n",
    "\n",
    "## Constraints\n",
    "\n",
    "- `nums1.length == m`\n",
    "- `nums2.length == n`\n",
    "- `0 <= m <= 1000`\n",
    "- `0 <= n <= 1000`\n",
    "- `1 <= m + n <= 2000`\n",
    "- `-10^6 <= nums1[i], nums2[i] <= 10^6`"
   ]
  },
  {
   "cell_type": "code",
   "execution_count": null,
   "metadata": {},
   "outputs": [],
   "source": [
    "from typing import List\n",
    "\n",
    "class Solution:\n",
    "    def findMedianSortedArrays(self, nums1: List[int], nums2: List[int]) -> float:\n",
    "        l = len(nums1) + len(nums2)\n",
    "        if l%2==1: return self.kth(nums1, nums2, l//2)\n",
    "        else: return (self.kth(nums1, nums2, l//2-1)+self.kth(nums1, nums2, l//2))/2\n",
    "    \n",
    "    def kth(self, a, b, k):\n",
    "        if not a or not b: return a[k] if not b else b[k]\n",
    "\n",
    "        ia, ib = len(a)//2, len(b)//2\n",
    "        ma, mb = a[ia], b[ib]\n",
    "\n",
    "        if ia+ib<k: # k is in the upper half\n",
    "            if ma>mb: return self.kth(a, b[ib+1:], k-ib-1) # remove the lower half of b\n",
    "            else: return self.kth(a[ia+1:],b, k-ia-1) # remove the lower half of a\n",
    "        else: # k is in the lower half\n",
    "            if ma>mb: return self.kth(a[:ia], b, k) # remove the upper half of a\n",
    "            else: return self.kth(a, b[:ib], k) # remove the upper half of b\n"
   ]
  }
 ],
 "metadata": {
  "kernelspec": {
   "display_name": "python3",
   "language": "python",
   "name": "python3"
  }
 },
 "nbformat": 4,
 "nbformat_minor": 2
}
