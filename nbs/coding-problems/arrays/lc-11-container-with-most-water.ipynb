{
 "cells": [
  {
   "cell_type": "markdown",
   "metadata": {},
   "source": [
    "# 11. Container With Most Water"
   ]
  },
  {
   "cell_type": "markdown",
   "metadata": {},
   "source": [
    "## Problem\n",
    "\n",
    "[link](https://leetcode.com/problems/container-with-most-water/)\n",
    "\n",
    "You are given an integer array `height` of length `n`. There are `n` vertical lines drawn such that the two endpoints of the `ith` line are `(i, 0)` and `(i, height[i])`.\n",
    "\n",
    "Find two lines that together with the x-axis form a container, such that the container contains the most water.\n",
    "\n",
    "*Return the maximum amount of water a container can store.*\n",
    "\n",
    "**Notice** that you may not slant the container.\n",
    "\n",
    "![](../../assets/lc-11-e1.jpeg)\n",
    "```code\n",
    "Example 1:\n",
    "Input: height = [1,8,6,2,5,4,8,3,7]\n",
    "Output: 49\n",
    "Explanation: The above vertical lines are represented by array [1,8,6,2,5,4,8,3,7]. In this case, the max area of water (blue section) the container can contain is 49.\n",
    "\n",
    "Example 2:\n",
    "Input: height = [1,1]\n",
    "Output: 1\n",
    "```\n",
    "\n",
    "## Constraints\n",
    "\n",
    "- `n == height.length`\n",
    "- `2 <= n <= 10^5`\n",
    "- `0 <= height[i] <= 10^4`\n",
    "\n",
    "## Solution"
   ]
  },
  {
   "cell_type": "code",
   "execution_count": null,
   "metadata": {},
   "outputs": [],
   "source": [
    "from typing import List\n",
    "\n",
    "class Solution:\n",
    "    def maxArea(self, height: List[int]) -> int:\n",
    "\n",
    "        n = len(height)\n",
    "        i, j = 0, n-1\n",
    "        ans = 0\n",
    "\n",
    "        while i<j:\n",
    "            ans = max(ans, (j-i)*min(height[i], height[j]))\n",
    "\n",
    "            if height[i]<height[j]: i+=1\n",
    "            else: j-=1\n",
    "        \n",
    "        return ans\n"
   ]
  }
 ],
 "metadata": {},
 "nbformat": 4,
 "nbformat_minor": 2
}
