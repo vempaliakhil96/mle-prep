{
 "cells": [
  {
   "cell_type": "markdown",
   "metadata": {},
   "source": [
    "# 153. Find Minimum in Rotated Sorted Array"
   ]
  },
  {
   "cell_type": "markdown",
   "metadata": {},
   "source": [
    "## Problem\n",
    "\n",
    "[Link](https://leetcode.com/problems/find-minimum-in-rotated-sorted-array)\n",
    "\n",
    "Suppose an array of length `n` sorted in ascending order is rotated between `1` and `n` times. For example, the array `nums = [0,1,2,4,5,6,7]` might become:\n",
    "\n",
    "- `[4,5,6,7,0,1,2]` if it was rotated `4` times.\n",
    "- `[0,1,2,4,5,6,7]` if it was rotated `7` times.\n",
    "Notice that rotating an array `[a[0], a[1], a[2], ..., a[n-1]]` `1` time results in the array `[a[n-1], a[0], a[1], a[2], ..., a[n-2]]`.\n",
    "\n",
    "Given the sorted rotated array nums of unique elements, return the minimum element of this array.\n",
    "\n",
    "You must write an algorithm that runs in `O(log n)` time.\n",
    "\n",
    "```code\n",
    "Example 1:\n",
    "\n",
    "Input: nums = [3,4,5,1,2]\n",
    "Output: 1\n",
    "Explanation: The original array was [1,2,3,4,5] rotated 3 times.\n",
    "Example 2:\n",
    "\n",
    "Input: nums = [4,5,6,7,0,1,2]\n",
    "Output: 0\n",
    "Explanation: The original array was [0,1,2,4,5,6,7] and it was rotated 4 times.\n",
    "Example 3:\n",
    "\n",
    "Input: nums = [11,13,15,17]\n",
    "Output: 11\n",
    "Explanation: The original array was [11,13,15,17] and it was rotated 4 times. \n",
    "```\n",
    "\n",
    "## Constraints\n",
    "\n",
    "- `n == nums.length`\n",
    "- `1 <= n <= 5000`\n",
    "- `-5000 <= nums[i] <= 5000`\n",
    "- All the integers of `nums` are unique.\n",
    "- `nums` is sorted and rotated between `1` and `n` times."
   ]
  },
  {
   "cell_type": "code",
   "execution_count": null,
   "metadata": {},
   "outputs": [],
   "source": [
    "from typing import List\n",
    "\n",
    "class Solution:\n",
    "    def findMin(self, nums: List[int]) -> int:\n",
    "        if len(nums)<3: return min(nums)\n",
    "        l, r = 0, len(nums)-1\n",
    "        while l<r:\n",
    "            m = (l+r)//2\n",
    "\n",
    "            if nums[m-1]>nums[m]<nums[m+1]:\n",
    "                return nums[m]\n",
    "            if nums[l]<nums[r]:\n",
    "                r = m-1\n",
    "            else:\n",
    "                l = m+1\n",
    "        return min(nums)"
   ]
  }
 ],
 "metadata": {
  "kernelspec": {
   "display_name": "python3",
   "language": "python",
   "name": "python3"
  }
 },
 "nbformat": 4,
 "nbformat_minor": 2
}
