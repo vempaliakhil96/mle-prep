{
 "cells": [
  {
   "cell_type": "markdown",
   "metadata": {},
   "source": [
    "# 857. Minimum Cost to Hire `K` Workers"
   ]
  },
  {
   "cell_type": "markdown",
   "metadata": {},
   "source": [
    "## Problem\n",
    "\n",
    "[link](https://leetcode.com/problems/minimum-cost-to-hire-k-workers/)\n",
    "\n",
    "There are `n` workers. You are given two integer arrays `quality` and `wage` where `quality[i]` is the quality of the `ith` worker and `wage[i]` is the minimum wage expectation for the `ith` worker.\n",
    "\n",
    "We want to hire exactly `k` workers to form a paid group. To hire a group of `k` workers, we must pay them according to the following rules:\n",
    "\n",
    "1. Every worker in the paid group must be paid at least their minimum wage expectation.\n",
    "2. In the group, each worker's pay must be directly proportional to their quality. This means if a worker’s quality is double that of another worker in the group, then they must be paid twice as much as the other worker.\n",
    "\n",
    "Given the integer `k`, return the least amount of money needed to form a paid group satisfying the above conditions. Answers within `10^-5` of the actual answer will be accepted.\n",
    "\n",
    "```code\n",
    "Example 1:\n",
    "\n",
    "Input: quality = [10,20,5], wage = [70,50,30], k = 2\n",
    "Output: 105.00000\n",
    "Explanation: We pay 70 to 0th worker and 35 to 2nd worker.\n",
    "Example 2:\n",
    "\n",
    "Input: quality = [3,1,10,10,1], wage = [4,8,2,2,7], k = 3\n",
    "Output: 30.66667\n",
    "Explanation: We pay 4 to 0th worker, 13.33333 to 2nd and 3rd workers separately.\n",
    "```\n",
    "\n",
    "## Constraints\n",
    "\n",
    "- `n == quality.length == wage.length`\n",
    "- `1 <= k <= n <= 10^4`\n",
    "- `1 <= quality[i], wage[i] <= 10^4`\n",
    "\n",
    "## Solution"
   ]
  },
  {
   "cell_type": "code",
   "execution_count": null,
   "metadata": {},
   "outputs": [],
   "source": [
    "import heapq\n",
    "from typing import List\n",
    "\n",
    "class Solution:\n",
    "    def mincostToHireWorkers(self, quality: List[int], wage: List[int], k: int) -> float:\n",
    "\n",
    "        workers = sorted([(float(w)/q, q) for w,q in zip(wage, quality)])\n",
    "        res = float('inf')\n",
    "        qsum = 0\n",
    "        heap = []\n",
    "\n",
    "        for r, q in workers:\n",
    "            heapq.heappush(heap, -q)\n",
    "            qsum += q\n",
    "            if len(heap)>k: qsum += heapq.heappop(heap)\n",
    "            if len(heap)==k: res = min(res, qsum*r)\n",
    "        \n",
    "        return res"
   ]
  }
 ],
 "metadata": {},
 "nbformat": 4,
 "nbformat_minor": 2
}
