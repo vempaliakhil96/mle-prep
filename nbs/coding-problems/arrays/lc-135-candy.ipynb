{
 "cells": [
  {
   "cell_type": "markdown",
   "metadata": {},
   "source": [
    "# 135. Candy"
   ]
  },
  {
   "cell_type": "markdown",
   "metadata": {},
   "source": [
    "## Problem\n",
    "\n",
    "[link](https://leetcode.com/problems/candy/)\n",
    "\n",
    "There are `n` children standing in a line. Each child is assigned a rating value given in the integer array `ratings`.\n",
    "\n",
    "You are giving candies to these children subjected to the following requirements:\n",
    "\n",
    "- Each child must have at least one candy.\n",
    "- Children with a higher rating get more candies than their neighbors.\n",
    "- Return the minimum number of candies you need to have to distribute the candies to the children.\n",
    "\n",
    "```code\n",
    "Example 1:\n",
    "\n",
    "Input: ratings = [1,0,2]\n",
    "Output: 5\n",
    "Explanation: You can allocate to the first, second and third child with 2, 1, 2 candies respectively.\n",
    "Example 2:\n",
    "\n",
    "Input: ratings = [1,2,2]\n",
    "Output: 4\n",
    "Explanation: You can allocate to the first, second and third child with 1, 2, 1 candies respectively.\n",
    "The third child gets 1 candy because it satisfies the above two conditions.\n",
    "```\n",
    "\n",
    "## Constraints\n",
    "\n",
    "- `n == ratings.length`\n",
    "- `1 <= n <= 2 * 104`\n",
    "- `0 <= ratings[i] <= 2 * 104`\n",
    "\n",
    "## Solution"
   ]
  },
  {
   "cell_type": "code",
   "execution_count": null,
   "metadata": {},
   "outputs": [],
   "source": [
    "from typing import List\n",
    "\n",
    "class Solution:\n",
    "    def candy(self, ratings: List[int]) -> int:\n",
    "        n, candies = len(ratings), [1] * len(ratings)\n",
    "\n",
    "        for i in range(n-1):\n",
    "            if ratings[i] < ratings[i+1]:\n",
    "                candies[i+1] = max(candies[i]+1, candies[i+1])\n",
    "        \n",
    "        for i in range(n-1, 0, -1):\n",
    "            if ratings[i] < ratings[i-1]:\n",
    "                candies[i-1] = max(candies[i]+1, candies[i-1])\n",
    "        \n",
    "        return sum(candies)"
   ]
  }
 ],
 "metadata": {},
 "nbformat": 4,
 "nbformat_minor": 2
}
