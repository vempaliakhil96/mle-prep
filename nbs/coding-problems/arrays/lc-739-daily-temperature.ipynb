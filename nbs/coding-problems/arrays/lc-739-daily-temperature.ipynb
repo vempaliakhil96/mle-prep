{
 "cells": [
  {
   "cell_type": "markdown",
   "metadata": {},
   "source": [
    "# 739. Daily Temperatures"
   ]
  },
  {
   "cell_type": "markdown",
   "metadata": {},
   "source": [
    "## Problem\n",
    "\n",
    "[link](https://leetcode.com/problems/daily-temperatures/)\n",
    "\n",
    "Given an array of integers `temperatures` represents the daily temperatures, return an array `answer` such that `answer[i]` is the number of days you have to wait after the `ith` day to get a warmer temperature. If there is no future day for which this is possible, keep `answer[i] == 0` instead.\n",
    "\n",
    "```code\n",
    "Example 1:\n",
    "\n",
    "Input: temperatures = [73,74,75,71,69,72,76,73]\n",
    "Output: [1,1,4,2,1,1,0,0]\n",
    "Example 2:\n",
    "\n",
    "Input: temperatures = [30,40,50,60]\n",
    "Output: [1,1,1,0]\n",
    "Example 3:\n",
    "\n",
    "Input: temperatures = [30,60,90]\n",
    "Output: [1,1,0]\n",
    "```\n",
    "\n",
    "## Constraints\n",
    "\n",
    "- `1 <= temperatures.length <= 10^5`\n",
    "- `30 <= temperatures[i] <= 100`\n",
    "\n",
    "## Solution\n"
   ]
  },
  {
   "cell_type": "code",
   "execution_count": null,
   "metadata": {},
   "outputs": [],
   "source": [
    "from typing import List\n",
    "\n",
    "class Solution:\n",
    "    def dailyTemperatures(self, temperatures: List[int]) -> List[int]:\n",
    "\n",
    "        answer = [0] * len(temperatures)\n",
    "        stack = []\n",
    "\n",
    "        for i, t in enumerate(temperatures):\n",
    "            while stack and temperatures[stack[-1]]<t: # if the curr temp is > than temps of previous days then update previous days values\n",
    "                cur = stack.pop()\n",
    "                answer[cur] = i-cur\n",
    "            stack.append(i) # add the index to the stack\n",
    "        \n",
    "        return answer"
   ]
  }
 ],
 "metadata": {},
 "nbformat": 4,
 "nbformat_minor": 2
}
