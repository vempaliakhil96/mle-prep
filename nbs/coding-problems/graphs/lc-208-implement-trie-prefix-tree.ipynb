{
 "cells": [
  {
   "cell_type": "markdown",
   "metadata": {},
   "source": [
    "# 208. Implement Trie (Prefix Tree)"
   ]
  },
  {
   "cell_type": "markdown",
   "metadata": {},
   "source": [
    "## Problem\n",
    "\n",
    "[link](https://leetcode.com/problems/implement-trie-prefix-tree/)\n",
    "\n",
    "A [trie](https://en.wikipedia.org/wiki/Trie) (pronounced as \"try\") or **prefix tree** is a tree data structure used to efficiently store and retrieve keys in a dataset of strings. There are various applications of this data structure, such as autocomplete and spellchecker.\n",
    "\n",
    "Implement the Trie class:\n",
    "\n",
    "- `Trie()` Initializes the trie object.\n",
    "- `void insert(String word)` Inserts the string word into the trie.\n",
    "- `boolean search(String word)` Returns `true` if the string word is in the trie (i.e., was inserted before), and `false` otherwise.\n",
    "- `boolean startsWith(String prefix)` Returns `true` if there is a previously inserted string word that has the `prefix` prefix, and `false` otherwise.\n",
    "\n",
    "```code\n",
    "Example 1:\n",
    "\n",
    "Input\n",
    "[\"Trie\", \"insert\", \"search\", \"search\", \"startsWith\", \"insert\", \"search\"]\n",
    "[[], [\"apple\"], [\"apple\"], [\"app\"], [\"app\"], [\"app\"], [\"app\"]]\n",
    "Output\n",
    "[null, null, true, false, true, null, true]\n",
    "\n",
    "Explanation\n",
    "Trie trie = new Trie();\n",
    "trie.insert(\"apple\");\n",
    "trie.search(\"apple\");   // return True\n",
    "trie.search(\"app\");     // return False\n",
    "trie.startsWith(\"app\"); // return True\n",
    "trie.insert(\"app\");\n",
    "trie.search(\"app\");     // return True\n",
    "\n",
    "```\n",
    "\n",
    "## Constraints\n",
    "\n",
    "- `1 <= word.length, prefix.length <= 2000`\n",
    "- `word` and `prefix` consist only of lowercase English letters.\n",
    "- At most `3 * 10^4` calls in total will be made to `insert`, `search`, and `startsWith`.\n",
    "\n",
    "## Solution"
   ]
  },
  {
   "cell_type": "code",
   "execution_count": null,
   "metadata": {},
   "outputs": [],
   "source": [
    "class TrieNode:\n",
    "    def __init__(self):\n",
    "        self.word = False # is this node the end of a word?\n",
    "        self.children = {} # children nodes\n",
    "\n",
    "class Trie:\n",
    "\n",
    "    def __init__(self):\n",
    "        self.root = TrieNode() # root node is empty\n",
    "\n",
    "    def insert(self, word: str) -> None:\n",
    "        n = self.root\n",
    "        for c in word:\n",
    "            if c not in n.children:\n",
    "                n.children[c] = TrieNode() \n",
    "            n = n.children[c]\n",
    "        n.word = True\n",
    "\n",
    "    def search(self, word: str) -> bool:\n",
    "        n = self.root\n",
    "        for c in word:\n",
    "            if c not in n.children: return False\n",
    "            n = n.children[c]\n",
    "        return n.word # return True if n is the end of a word\n",
    "\n",
    "    def startsWith(self, prefix: str) -> bool:\n",
    "        n = self.root\n",
    "        for c in prefix:\n",
    "            if c not in n.children: return False\n",
    "            n = n.children[c]\n",
    "        return True\n"
   ]
  }
 ],
 "metadata": {
  "kernelspec": {
   "display_name": "python3",
   "language": "python",
   "name": "python3"
  }
 },
 "nbformat": 4,
 "nbformat_minor": 2
}
