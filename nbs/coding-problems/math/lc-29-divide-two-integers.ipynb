{
 "cells": [
  {
   "cell_type": "markdown",
   "metadata": {},
   "source": [
    "# 29. Divide Two Integers"
   ]
  },
  {
   "cell_type": "markdown",
   "metadata": {},
   "source": [
    "## Problem\n",
    "\n",
    "[link](https://leetcode.com/problems/divide-two-integers/)\n",
    "\n",
    "Given two integers `dividend` and `divisor`, divide two integers **without** using multiplication, division, and mod operator.\n",
    "\n",
    "The integer division should truncate toward zero, which means losing its fractional part. For example, `8.345` would be truncated to `8`, and `-2.7335` would be truncated to `-2`.\n",
    "\n",
    "Return the **quotient** after dividing `dividend` by `divisor`.\n",
    "\n",
    "**Note:** Assume we are dealing with an environment that could only store integers within the **32-bit** signed integer range: `[−2^31, 2^31 − 1]`. For this problem, if the quotient is **strictly greater than** `2^31 - 1`, then return `2^31 - 1`, and if the quotient is **strictly less than** `-2^31`, then return `-2^31`.\n",
    "\n",
    "```code\n",
    "Example 1:\n",
    "\n",
    "Input: dividend = 10, divisor = 3\n",
    "Output: 3\n",
    "Explanation: 10/3 = 3.33333.. which is truncated to 3.\n",
    "Example 2:\n",
    "\n",
    "Input: dividend = 7, divisor = -3\n",
    "Output: -2\n",
    "Explanation: 7/-3 = -2.33333.. which is truncated to -2.\n",
    "```\n",
    "\n",
    "## Constraints\n",
    "\n",
    "- `-2^31 <= dividend, divisor <= 2^31 - 1`\n",
    "- `divisor != 0`"
   ]
  },
  {
   "cell_type": "code",
   "execution_count": null,
   "metadata": {},
   "outputs": [],
   "source": [
    "class Solution:\n",
    "    def divide(self, dividend: int, divisor: int) -> int:\n",
    "        \n",
    "        sign = 1 if dividend*divisor>0 else -1\n",
    "        dividend,  divisor = abs(dividend), abs(divisor)\n",
    "        \n",
    "        q = 0\n",
    "        while dividend>=divisor:\n",
    "            mul = 1\n",
    "            t = divisor \n",
    "            while dividend>=t: # keep on increasing the divisor by 2^i times\n",
    "                dividend -= t\n",
    "                q += mul\n",
    "                mul += mul\n",
    "                t += t\n",
    "        \n",
    "        return max(-2147483648, min(q*sign, 2147483647))"
   ]
  }
 ],
 "metadata": {},
 "nbformat": 4,
 "nbformat_minor": 2
}
