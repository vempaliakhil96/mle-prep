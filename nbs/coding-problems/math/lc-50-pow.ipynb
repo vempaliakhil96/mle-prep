{
 "cells": [
  {
   "cell_type": "markdown",
   "metadata": {},
   "source": [
    "# 50. Pow(x, n)"
   ]
  },
  {
   "cell_type": "markdown",
   "metadata": {},
   "source": [
    "## Problem\n",
    "[link](https://leetcode.com/problems/powx-n/description/?envType=study-plan-v2&envId=top-interview-150)\n",
    "\n",
    "Implement `pow(x, n)`, which calculates `x` raised to the power `n` (i.e., $x^n$).\n",
    "\n",
    "```code\n",
    "Example 1:\n",
    "\n",
    "Input: x = 2.00000, n = 10\n",
    "Output: 1024.00000\n",
    "Example 2:\n",
    "\n",
    "Input: x = 2.10000, n = 3\n",
    "Output: 9.26100\n",
    "Example 3:\n",
    "\n",
    "Input: x = 2.00000, n = -2\n",
    "Output: 0.25000\n",
    "Explanation: 2-2 = 1/22 = 1/4 = 0.25\n",
    "```\n",
    "\n",
    "## Constraints\n",
    "\n",
    "- `-100.0 < x < 100.0`\n",
    "- `-231 <= n <= 231-1`\n",
    "- `n` is an integer.\n",
    "- Either `x` is not zero or `n` > 0.\n",
    "- `-104 <= xn <= 104`\n",
    "\n",
    "## Solution"
   ]
  },
  {
   "cell_type": "code",
   "execution_count": null,
   "metadata": {},
   "outputs": [],
   "source": [
    "class Solution:\n",
    "    def myPow(self, x: float, n: int) -> float:\n",
    "        if not n: \n",
    "            return 1\n",
    "        if n<0: \n",
    "            return 1 / self.myPow(x, -n)\n",
    "        if n%2: \n",
    "            return x * self.myPow(x, n-1)\n",
    "        return self.myPow(x*x, n/2)\n",
    "        "
   ]
  }
 ],
 "metadata": {
  "kernelspec": {
   "display_name": "python3",
   "language": "python",
   "name": "python3"
  }
 },
 "nbformat": 4,
 "nbformat_minor": 2
}
