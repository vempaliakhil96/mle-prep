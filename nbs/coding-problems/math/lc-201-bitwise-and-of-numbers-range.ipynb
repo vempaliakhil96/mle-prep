{
 "cells": [
  {
   "cell_type": "markdown",
   "metadata": {},
   "source": [
    "# 201. Bitwise AND of Numbers Range"
   ]
  },
  {
   "cell_type": "markdown",
   "metadata": {},
   "source": [
    "## Problem\n",
    "\n",
    "[Link](https://leetcode.com/problems/bitwise-and-of-numbers-range)\n",
    "\n",
    "Given two integers `left` and `right` that represent the range `[left, right]`, return the bitwise **AND** of all numbers in this range, inclusive.\n",
    "\n",
    "```code\n",
    "Example 1:\n",
    "\n",
    "Input: left = 5, right = 7\n",
    "Output: 4\n",
    "Example 2:\n",
    "\n",
    "Input: left = 0, right = 0\n",
    "Output: 0\n",
    "Example 3:\n",
    "\n",
    "Input: left = 1, right = 2147483647\n",
    "Output: 0\n",
    "```\n",
    "\n",
    "## Constraints\n",
    "\n",
    "- `0 <= left <= right <= 2^31 - 1`\n",
    "\n",
    "## Solution\n",
    "\n",
    "We need to keep right shifting both numbers until they are equal. The number of times we right shift is the number of bits that are not common in both numbers. We left shift the result by the number of times we right shifted the numbers."
   ]
  },
  {
   "cell_type": "code",
   "execution_count": null,
   "metadata": {},
   "outputs": [],
   "source": [
    "class Solution:\n",
    "    def rangeBitwiseAnd(self, left: int, right: int) -> int:\n",
    "\n",
    "        c = 0\n",
    "\n",
    "        while left!=right:\n",
    "            left >>= 1; right >>= 1\n",
    "            c += 1\n",
    "        \n",
    "        return left << c \n"
   ]
  }
 ],
 "metadata": {
  "kernelspec": {
   "display_name": "python3",
   "language": "python",
   "name": "python3"
  }
 },
 "nbformat": 4,
 "nbformat_minor": 2
}
