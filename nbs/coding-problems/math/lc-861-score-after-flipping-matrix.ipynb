{
 "cells": [
  {
   "cell_type": "markdown",
   "metadata": {},
   "source": [
    "# 861. Score After Flipping Matrix"
   ]
  },
  {
   "cell_type": "markdown",
   "metadata": {},
   "source": [
    "## Problem\n",
    "\n",
    "[link](https://leetcode.com/problems/score-after-flipping-matrix/)\n",
    "\n",
    "You are given an `m x n` binary matrix `grid`.\n",
    "\n",
    "A **move** consists of choosing any row or column and toggling each value in that row or column (i.e., changing all `0`'s to `1`'s, and all `1`'s to `0`'s).\n",
    "\n",
    "Every row of the matrix is interpreted as a binary number, and the **score** of the matrix is the sum of these numbers.\n",
    "\n",
    "Return the *highest* possible **score** after making any number of **moves** *(including zero moves)*.\n",
    "\n",
    "![](../../assets/lc-861-ex1.jpeg)\n",
    "```code\n",
    "Example 1:\n",
    "Input: grid = [[0,0,1,1],[1,0,1,0],[1,1,0,0]]\n",
    "Output: 39\n",
    "Explanation: 0b1111 + 0b1001 + 0b1111 = 15 + 9 + 15 = 39\n",
    "Example 2:\n",
    "\n",
    "Input: grid = [[0]]\n",
    "Output: 1\n",
    "```\n",
    "\n",
    "## Constraints\n",
    "\n",
    "- `m == grid.length`\n",
    "- `n == grid[i].length`\n",
    "- `1 <= m, n <= 20`\n",
    "- `grid[i][j] is either 0 or 1`\n",
    "\n",
    "## Solution\n",
    "\n",
    "Assume `A` is `M * N`.\n",
    "\n",
    "1. `A[i][0]` is worth `1 << (N - 1)` points, more than the sum of `(A[i][1] + .. + A[i][N-1])`.\n",
    "We need to toggle all `A[i][0]` to `1`, here I toggle all lines for `A[i][0] = 0`.\n",
    "2. `A[i][j]` is worth `1 << (N - 1 - j)` For every col, I count the current number of 1s. After step 1, `A[i][j]` becomes `1` if `A[i][j] == A[i][0]`. if `M - cur > cur`, we can toggle this column to get more 1s. `max(cur, M - cur)` will be the maximum number of 1s that we can get."
   ]
  },
  {
   "cell_type": "code",
   "execution_count": null,
   "metadata": {},
   "outputs": [],
   "source": [
    "from typing import List\n",
    "\n",
    "class Solution:\n",
    "    def matrixScore(self, grid: List[List[int]]) -> int:\n",
    "\n",
    "        R, C = len(grid), len(grid[0])\n",
    "        score = (1 << C-1)*R\n",
    "        \n",
    "        for c in range(1, C):\n",
    "            curr = sum(grid[r][c]==grid[r][0] for r in range(R))\n",
    "            score += max(curr, R-curr) * (1 << (C-c-1))\n",
    "\n",
    "        return score\n"
   ]
  }
 ],
 "metadata": {},
 "nbformat": 4,
 "nbformat_minor": 2
}
