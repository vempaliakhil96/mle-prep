{
 "cells": [
  {
   "cell_type": "markdown",
   "metadata": {},
   "source": [
    "# 1442. Count Triplets That Can Form Two Arrays of Equal XOR"
   ]
  },
  {
   "cell_type": "markdown",
   "metadata": {},
   "source": [
    "## Problem\n",
    "\n",
    "[link](https://leetcode.com/problems/count-triplets-that-can-form-two-arrays-of-equal-xor/)\n",
    "\n",
    "Given an array of integers `arr`. \n",
    "We want to select three indices `i, j and k` where `(0 <= i < j <= k < arr.length)`.\n",
    "Let's define `a` and `b` as follows:\n",
    "- `a = arr[i] ^ arr[i + 1] ^ ... ^ arr[j - 1]`\n",
    "- `b = arr[j] ^ arr[j + 1] ^ ... ^ arr[k]`\n",
    "\n",
    "Note that ^ denotes the **bitwise-xor** operation. Return the number of triplets `(i, j and k)` where `a == b`.\n",
    "\n",
    "```code\n",
    "Example 1:\n",
    "\n",
    "Input: arr = [2,3,1,6,7]\n",
    "Output: 4\n",
    "Explanation: The triplets are (0,1,2), (0,2,2), (2,3,4) and (2,4,4)\n",
    "Example 2:\n",
    "\n",
    "Input: arr = [1,1,1,1,1]\n",
    "Output: 10\n",
    "```\n",
    "\n",
    "## Constraints\n",
    "\n",
    "- `1 <= arr.length <= 300`\n",
    "- `1 <= arr[i] <= 10^8`\n",
    "\n",
    "## Solution\n",
    "\n",
    "`a = arr[i] ^ arr[i + 1] ^ ... ^ arr[j - 1]`\n",
    "`b = arr[j] ^ arr[j + 1] ^ ... ^ arr[k]`\n",
    "\n",
    "Assume `a == b`,\n",
    "`a ^ b = 0` therefore `arr[i] ^ arr[i + 1] ^ ... ^ arr[j - 1] ^ arr[j] ^ arr[j + 1] ^ ... ^ arr[k] = 0` \n",
    "\n",
    "prefix xor of `arr` from `i` to `k` is `0` therefore `prefix_xor[k] = prefix_xor[i - 1]`\n",
    "\n",
    "We only need to find out how many pair `(i, k)` of prefix value are equal. So we can calculate the `prefix` array first, then brute force count the pair. Because we once we determine the pair `(i,k)`, `j` can be any value between `i` and `k`.\n"
   ]
  },
  {
   "cell_type": "code",
   "execution_count": null,
   "metadata": {},
   "outputs": [],
   "source": [
    "from typing import List\n",
    "\n",
    "class Solution:\n",
    "    def countTriplets(self, arr: List[int]) -> int:\n",
    "        n = len(arr)\n",
    "        prefix_xor = [0]\n",
    "        for x in arr:\n",
    "            prefix_xor.append(prefix_xor[-1]^x)\n",
    "        r = 0\n",
    "        for i in range(n+1):\n",
    "            for j in range(i+1, n+1):\n",
    "                if prefix_xor[j]==prefix_xor[i]: r += j-i-1\n",
    "        return r\n"
   ]
  }
 ],
 "metadata": {},
 "nbformat": 4,
 "nbformat_minor": 2
}
