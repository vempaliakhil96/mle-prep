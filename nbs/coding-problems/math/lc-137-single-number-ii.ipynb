{
 "cells": [
  {
   "cell_type": "markdown",
   "metadata": {},
   "source": [
    "# 137. Single Number II"
   ]
  },
  {
   "cell_type": "markdown",
   "metadata": {},
   "source": [
    "Given an integer array `nums` where every element appears **three times** except for one, which appears **exactly once**. Find the single element and return it.\n",
    "\n",
    "You must implement a solution with a linear runtime complexity and use only constant extra space.\n",
    "\n",
    "```code\n",
    "Example 1:\n",
    "\n",
    "Input: nums = [2,2,3,2]\n",
    "Output: 3\n",
    "Example 2:\n",
    "\n",
    "Input: nums = [0,1,0,1,0,1,99]\n",
    "Output: 99\n",
    "```\n",
    "\n",
    "## Constraints\n",
    "\n",
    "- `1 <= nums.length <= 3 * 10^4`\n",
    "- `-2^31 <= nums[i] <= 2^31 - 1`\n",
    "- Each element in `nums` appears exactly three **times except** for one element which appears **once**."
   ]
  },
  {
   "cell_type": "code",
   "execution_count": null,
   "metadata": {},
   "outputs": [],
   "source": [
    "from typing import List\n",
    "\n",
    "class Solution:\n",
    "    def singleNumber(self, nums: List[int]) -> int:\n",
    "        s = 0\n",
    "        for i in range(32):\n",
    "            c = 0\n",
    "            for n in nums:\n",
    "                if n&(1<<i) == (1<<i): c+=1 # count the number of 1s in the i-th bit\n",
    "            s |= (c%3) << i # set the i-th bit of s to 1 if c%3==1\n",
    "        return s if s<(1<<31) else s-(1<<32) # if s is negative, convert it to 32-bit signed integer\n"
   ]
  }
 ],
 "metadata": {
  "kernelspec": {
   "display_name": "python3",
   "language": "python",
   "name": "python3"
  }
 },
 "nbformat": 4,
 "nbformat_minor": 2
}
