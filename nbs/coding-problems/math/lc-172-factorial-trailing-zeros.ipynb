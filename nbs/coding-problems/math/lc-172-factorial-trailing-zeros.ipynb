{
 "cells": [
  {
   "cell_type": "markdown",
   "metadata": {},
   "source": [
    "# 172. Factorial Trailing Zeroes"
   ]
  },
  {
   "cell_type": "markdown",
   "metadata": {},
   "source": [
    "## Problem\n",
    "Given an integer n, return the number of trailing zeroes in n!.\n",
    "\n",
    "Note that n! = n * (n - 1) * (n - 2) * ... * 3 * 2 * 1.\n",
    "\n",
    " \n",
    "```code\n",
    "Example 1:\n",
    "\n",
    "Input: n = 3\n",
    "Output: 0\n",
    "Explanation: 3! = 6, no trailing zero.\n",
    "Example 2:\n",
    "\n",
    "Input: n = 5\n",
    "Output: 1\n",
    "Explanation: 5! = 120, one trailing zero.\n",
    "Example 3:\n",
    "\n",
    "Input: n = 0\n",
    "Output: 0\n",
    "```\n",
    "\n",
    "## Constraints\n",
    "\n",
    "`0 <= n <= 104`\n",
    " \n",
    "\n",
    "Follow up: Could you write a solution that works in logarithmic time complexity?\n",
    "\n",
    "## Solution"
   ]
  },
  {
   "cell_type": "code",
   "execution_count": null,
   "metadata": {},
   "outputs": [],
   "source": [
    "#| echo: true\n",
    "\n",
    "class Solution:\n",
    "    def trailingZeroes(self, n: int) -> int:\n",
    "        fives = 0\n",
    "        k = 1\n",
    "        while 5**k<n+1:\n",
    "            fives += n//5**k\n",
    "            k += 1\n",
    "        return fives"
   ]
  }
 ],
 "metadata": {
  "kernelspec": {
   "display_name": "python3",
   "language": "python",
   "name": "python3"
  }
 },
 "nbformat": 4,
 "nbformat_minor": 2
}
