{
 "cells": [
  {
   "cell_type": "markdown",
   "metadata": {},
   "source": [
    "# 149. Max Points on a Line"
   ]
  },
  {
   "cell_type": "markdown",
   "metadata": {},
   "source": [
    "## Problem\n",
    "\n",
    "[Link](https://leetcode.com/problems/max-points-on-a-line)\n",
    "\n",
    "Given an array of `points` where `points[i] = [xi, yi]` represents a point on the **X-Y** plane, return the maximum number of points that lie on the same straight line.\n",
    "\n",
    "![example 1](../../assets/lc-149-e1.jpeg)\n",
    "\n",
    "```code\n",
    "Example 1:\n",
    "\n",
    "\n",
    "Input: points = [[1,1],[2,2],[3,3]]\n",
    "Output: 3\n",
    "\n",
    "```\n",
    "\n",
    "![example 2](../../assets/lc-149-e2.jpeg)\n",
    "\n",
    "```code\n",
    "Example 2:\n",
    "\n",
    "\n",
    "Input: points = [[1,1],[3,2],[5,3],[4,1],[2,3],[1,4]]\n",
    "Output: 4\n",
    "```\n",
    "\n",
    "## Constraints\n",
    "\n",
    "- `1 <= points.length <= 300`\n",
    "- `points[i].length == 2`\n",
    "- `-10^4 <= xi, yi <= 10^4`\n",
    "- All the `points` are unique.\n"
   ]
  },
  {
   "cell_type": "code",
   "execution_count": null,
   "metadata": {},
   "outputs": [],
   "source": [
    "from collections import defaultdict\n",
    "from typing import List\n",
    "\n",
    "class Solution:\n",
    "    def maxPoints(self, points: List[List[int]]) -> int:\n",
    "\n",
    "        n = len(points)\n",
    "\n",
    "        if n<=2: return n\n",
    "\n",
    "        def slope(p1, p2):\n",
    "            x1, y1 = p1\n",
    "            x2, y2 = p2\n",
    "            if x1-x2==0: return float('inf')\n",
    "            return (y1-y2)/(x1-x2)\n",
    "        \n",
    "        r = 1\n",
    "        \n",
    "        for i in range(n):\n",
    "            slopes = defaultdict(int) # for each point, count all diff types of slopes with other points, only look ahead\n",
    "            for j in range(i+1, n):\n",
    "                p1, p2 = points[i], points[j]\n",
    "                _slope = slope(p1, p2)\n",
    "                slopes[_slope] += 1\n",
    "                r = max(r, slopes[_slope])\n",
    "        \n",
    "        return r+1\n"
   ]
  }
 ],
 "metadata": {
  "kernelspec": {
   "display_name": "python3",
   "language": "python",
   "name": "python3"
  }
 },
 "nbformat": 4,
 "nbformat_minor": 2
}
